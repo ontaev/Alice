{
 "cells": [
  {
   "cell_type": "markdown",
   "metadata": {},
   "source": [
    "## Финальный проект специализации"
   ]
  },
  {
   "cell_type": "markdown",
   "metadata": {},
   "source": [
    "В ноутбуке рассмотрен проект на тему: \"Идентификация интернет пользователей\"\n",
    "\n",
    "Целью проекта является получение наилучших оценок в соревновании: [Catch Me If You Can](https://www.kaggle.com/c/catch-me-if-you-can-intruder-detection-through-webpage-session-tracking2) на сайте  [kaggle.com](https://www.kaggle.com)\n",
    "\n",
    "**Данные:**\n",
    "\n",
    "В обучающей выборке **train_sessions.csv** содержится информация о сайтах и времени их посещения, а также признак **target**, указывающий на то, что сессия принадлежит некой Элис.\n",
    "\n",
    "**Задача:** \n",
    "\n",
    "Сделать прогнозы для сессий в тестовой выборке **test_sessions.csv** и определить, принадлежат ли они Элис.\n",
    "\n",
    "Метрикой соревнования, учитываемой на Leaderboard является **ROC AUC** - площадь под ROC-кривой, которая показывает зависимость TPR(true positive rate) от FPR(false positive rate). [Wiki](http://www.machinelearning.ru/wiki/index.php?title=ROC-кривая) "
   ]
  },
  {
   "cell_type": "code",
   "execution_count": 3,
   "metadata": {},
   "outputs": [],
   "source": [
    "from __future__ import division, print_function\n",
    "# отключим всякие предупреждения Anaconda\n",
    "import warnings\n",
    "warnings.filterwarnings('ignore')\n",
    "import os\n",
    "import pickle\n",
    "import numpy as np\n",
    "import pandas as pd\n",
    "\n",
    "from matplotlib import pyplot as plt\n",
    "%matplotlib inline\n",
    "import seaborn as sns\n",
    "sns.set()\n",
    "from scipy.sparse import hstack\n",
    "from scipy.sparse import csr_matrix\n",
    "from sklearn.preprocessing import StandardScaler\n",
    "from sklearn.feature_extraction.text import TfidfVectorizer\n",
    "from sklearn.linear_model import SGDClassifier, LogisticRegression, LogisticRegressionCV\n",
    "from sklearn.metrics import roc_auc_score\n",
    "from sklearn.model_selection import train_test_split, cross_val_score, StratifiedKFold, GridSearchCV, TimeSeriesSplit"
   ]
  },
  {
   "cell_type": "code",
   "execution_count": 4,
   "metadata": {},
   "outputs": [],
   "source": [
    "def write_to_submission_file(predicted_labels, out_file,\n",
    "                             target='target', index_label=\"session_id\"):\n",
    "    predicted_df = pd.DataFrame(predicted_labels,\n",
    "                                index = np.arange(1, predicted_labels.shape[0] + 1),\n",
    "                                columns=[target])\n",
    "    predicted_df.to_csv(out_file, index_label=index_label)"
   ]
  },
  {
   "cell_type": "markdown",
   "metadata": {},
   "source": [
    "## 1. Подготовка данных"
   ]
  },
  {
   "cell_type": "code",
   "execution_count": 7,
   "metadata": {},
   "outputs": [],
   "source": [
    "#Путь к данным\n",
    "PATH_TO_DATA = ''"
   ]
  },
  {
   "cell_type": "code",
   "execution_count": 8,
   "metadata": {},
   "outputs": [],
   "source": [
    "#Загрузим данные в Dataframe \n",
    "train_df = pd.read_csv(os.path.join(PATH_TO_DATA, 'train_sessions.csv'), index_col='session_id')\n",
    "test_df = pd.read_csv(os.path.join(PATH_TO_DATA, 'test_sessions.csv'), index_col='session_id')"
   ]
  },
  {
   "cell_type": "code",
   "execution_count": 9,
   "metadata": {},
   "outputs": [
    {
     "name": "stdout",
     "output_type": "stream",
     "text": [
      "(253561, 21) (82797, 20)\n"
     ]
    }
   ],
   "source": [
    "#Проверим размеры тестовых и обучающих выборок\n",
    "print (train_df.shape, test_df.shape)"
   ]
  },
  {
   "cell_type": "code",
   "execution_count": 17,
   "metadata": {},
   "outputs": [
    {
     "data": {
      "text/html": [
       "<div>\n",
       "<style scoped>\n",
       "    .dataframe tbody tr th:only-of-type {\n",
       "        vertical-align: middle;\n",
       "    }\n",
       "\n",
       "    .dataframe tbody tr th {\n",
       "        vertical-align: top;\n",
       "    }\n",
       "\n",
       "    .dataframe thead th {\n",
       "        text-align: right;\n",
       "    }\n",
       "</style>\n",
       "<table border=\"1\" class=\"dataframe\">\n",
       "  <thead>\n",
       "    <tr style=\"text-align: right;\">\n",
       "      <th></th>\n",
       "      <th>site1</th>\n",
       "      <th>time1</th>\n",
       "      <th>site2</th>\n",
       "      <th>time2</th>\n",
       "      <th>site3</th>\n",
       "      <th>time3</th>\n",
       "      <th>site4</th>\n",
       "      <th>time4</th>\n",
       "      <th>site5</th>\n",
       "      <th>time5</th>\n",
       "      <th>...</th>\n",
       "      <th>time6</th>\n",
       "      <th>site7</th>\n",
       "      <th>time7</th>\n",
       "      <th>site8</th>\n",
       "      <th>time8</th>\n",
       "      <th>site9</th>\n",
       "      <th>time9</th>\n",
       "      <th>site10</th>\n",
       "      <th>time10</th>\n",
       "      <th>target</th>\n",
       "    </tr>\n",
       "    <tr>\n",
       "      <th>session_id</th>\n",
       "      <th></th>\n",
       "      <th></th>\n",
       "      <th></th>\n",
       "      <th></th>\n",
       "      <th></th>\n",
       "      <th></th>\n",
       "      <th></th>\n",
       "      <th></th>\n",
       "      <th></th>\n",
       "      <th></th>\n",
       "      <th></th>\n",
       "      <th></th>\n",
       "      <th></th>\n",
       "      <th></th>\n",
       "      <th></th>\n",
       "      <th></th>\n",
       "      <th></th>\n",
       "      <th></th>\n",
       "      <th></th>\n",
       "      <th></th>\n",
       "      <th></th>\n",
       "    </tr>\n",
       "  </thead>\n",
       "  <tbody>\n",
       "    <tr>\n",
       "      <th>1</th>\n",
       "      <td>718</td>\n",
       "      <td>2014-02-20 10:02:45</td>\n",
       "      <td>NaN</td>\n",
       "      <td>NaN</td>\n",
       "      <td>NaN</td>\n",
       "      <td>NaN</td>\n",
       "      <td>NaN</td>\n",
       "      <td>NaN</td>\n",
       "      <td>NaN</td>\n",
       "      <td>NaN</td>\n",
       "      <td>...</td>\n",
       "      <td>NaN</td>\n",
       "      <td>NaN</td>\n",
       "      <td>NaN</td>\n",
       "      <td>NaN</td>\n",
       "      <td>NaN</td>\n",
       "      <td>NaN</td>\n",
       "      <td>NaN</td>\n",
       "      <td>NaN</td>\n",
       "      <td>NaN</td>\n",
       "      <td>0</td>\n",
       "    </tr>\n",
       "    <tr>\n",
       "      <th>2</th>\n",
       "      <td>890</td>\n",
       "      <td>2014-02-22 11:19:50</td>\n",
       "      <td>941.0</td>\n",
       "      <td>2014-02-22 11:19:50</td>\n",
       "      <td>3847.0</td>\n",
       "      <td>2014-02-22 11:19:51</td>\n",
       "      <td>941.0</td>\n",
       "      <td>2014-02-22 11:19:51</td>\n",
       "      <td>942.0</td>\n",
       "      <td>2014-02-22 11:19:51</td>\n",
       "      <td>...</td>\n",
       "      <td>2014-02-22 11:19:51</td>\n",
       "      <td>3847.0</td>\n",
       "      <td>2014-02-22 11:19:52</td>\n",
       "      <td>3846.0</td>\n",
       "      <td>2014-02-22 11:19:52</td>\n",
       "      <td>1516.0</td>\n",
       "      <td>2014-02-22 11:20:15</td>\n",
       "      <td>1518.0</td>\n",
       "      <td>2014-02-22 11:20:16</td>\n",
       "      <td>0</td>\n",
       "    </tr>\n",
       "    <tr>\n",
       "      <th>3</th>\n",
       "      <td>14769</td>\n",
       "      <td>2013-12-16 16:40:17</td>\n",
       "      <td>39.0</td>\n",
       "      <td>2013-12-16 16:40:18</td>\n",
       "      <td>14768.0</td>\n",
       "      <td>2013-12-16 16:40:19</td>\n",
       "      <td>14769.0</td>\n",
       "      <td>2013-12-16 16:40:19</td>\n",
       "      <td>37.0</td>\n",
       "      <td>2013-12-16 16:40:19</td>\n",
       "      <td>...</td>\n",
       "      <td>2013-12-16 16:40:19</td>\n",
       "      <td>14768.0</td>\n",
       "      <td>2013-12-16 16:40:20</td>\n",
       "      <td>14768.0</td>\n",
       "      <td>2013-12-16 16:40:21</td>\n",
       "      <td>14768.0</td>\n",
       "      <td>2013-12-16 16:40:22</td>\n",
       "      <td>14768.0</td>\n",
       "      <td>2013-12-16 16:40:24</td>\n",
       "      <td>0</td>\n",
       "    </tr>\n",
       "    <tr>\n",
       "      <th>4</th>\n",
       "      <td>782</td>\n",
       "      <td>2014-03-28 10:52:12</td>\n",
       "      <td>782.0</td>\n",
       "      <td>2014-03-28 10:52:42</td>\n",
       "      <td>782.0</td>\n",
       "      <td>2014-03-28 10:53:12</td>\n",
       "      <td>782.0</td>\n",
       "      <td>2014-03-28 10:53:42</td>\n",
       "      <td>782.0</td>\n",
       "      <td>2014-03-28 10:54:12</td>\n",
       "      <td>...</td>\n",
       "      <td>2014-03-28 10:54:42</td>\n",
       "      <td>782.0</td>\n",
       "      <td>2014-03-28 10:55:12</td>\n",
       "      <td>782.0</td>\n",
       "      <td>2014-03-28 10:55:42</td>\n",
       "      <td>782.0</td>\n",
       "      <td>2014-03-28 10:56:12</td>\n",
       "      <td>782.0</td>\n",
       "      <td>2014-03-28 10:56:42</td>\n",
       "      <td>0</td>\n",
       "    </tr>\n",
       "    <tr>\n",
       "      <th>5</th>\n",
       "      <td>22</td>\n",
       "      <td>2014-02-28 10:53:05</td>\n",
       "      <td>177.0</td>\n",
       "      <td>2014-02-28 10:55:22</td>\n",
       "      <td>175.0</td>\n",
       "      <td>2014-02-28 10:55:22</td>\n",
       "      <td>178.0</td>\n",
       "      <td>2014-02-28 10:55:23</td>\n",
       "      <td>177.0</td>\n",
       "      <td>2014-02-28 10:55:23</td>\n",
       "      <td>...</td>\n",
       "      <td>2014-02-28 10:55:59</td>\n",
       "      <td>175.0</td>\n",
       "      <td>2014-02-28 10:55:59</td>\n",
       "      <td>177.0</td>\n",
       "      <td>2014-02-28 10:55:59</td>\n",
       "      <td>177.0</td>\n",
       "      <td>2014-02-28 10:57:06</td>\n",
       "      <td>178.0</td>\n",
       "      <td>2014-02-28 10:57:11</td>\n",
       "      <td>0</td>\n",
       "    </tr>\n",
       "  </tbody>\n",
       "</table>\n",
       "<p>5 rows × 21 columns</p>\n",
       "</div>"
      ],
      "text/plain": [
       "            site1                time1  site2                time2    site3  \\\n",
       "session_id                                                                    \n",
       "1             718  2014-02-20 10:02:45    NaN                  NaN      NaN   \n",
       "2             890  2014-02-22 11:19:50  941.0  2014-02-22 11:19:50   3847.0   \n",
       "3           14769  2013-12-16 16:40:17   39.0  2013-12-16 16:40:18  14768.0   \n",
       "4             782  2014-03-28 10:52:12  782.0  2014-03-28 10:52:42    782.0   \n",
       "5              22  2014-02-28 10:53:05  177.0  2014-02-28 10:55:22    175.0   \n",
       "\n",
       "                          time3    site4                time4  site5  \\\n",
       "session_id                                                             \n",
       "1                           NaN      NaN                  NaN    NaN   \n",
       "2           2014-02-22 11:19:51    941.0  2014-02-22 11:19:51  942.0   \n",
       "3           2013-12-16 16:40:19  14769.0  2013-12-16 16:40:19   37.0   \n",
       "4           2014-03-28 10:53:12    782.0  2014-03-28 10:53:42  782.0   \n",
       "5           2014-02-28 10:55:22    178.0  2014-02-28 10:55:23  177.0   \n",
       "\n",
       "                          time5  ...                  time6    site7  \\\n",
       "session_id                       ...                                   \n",
       "1                           NaN  ...                    NaN      NaN   \n",
       "2           2014-02-22 11:19:51  ...    2014-02-22 11:19:51   3847.0   \n",
       "3           2013-12-16 16:40:19  ...    2013-12-16 16:40:19  14768.0   \n",
       "4           2014-03-28 10:54:12  ...    2014-03-28 10:54:42    782.0   \n",
       "5           2014-02-28 10:55:23  ...    2014-02-28 10:55:59    175.0   \n",
       "\n",
       "                          time7    site8                time8    site9  \\\n",
       "session_id                                                               \n",
       "1                           NaN      NaN                  NaN      NaN   \n",
       "2           2014-02-22 11:19:52   3846.0  2014-02-22 11:19:52   1516.0   \n",
       "3           2013-12-16 16:40:20  14768.0  2013-12-16 16:40:21  14768.0   \n",
       "4           2014-03-28 10:55:12    782.0  2014-03-28 10:55:42    782.0   \n",
       "5           2014-02-28 10:55:59    177.0  2014-02-28 10:55:59    177.0   \n",
       "\n",
       "                          time9   site10               time10 target  \n",
       "session_id                                                            \n",
       "1                           NaN      NaN                  NaN      0  \n",
       "2           2014-02-22 11:20:15   1518.0  2014-02-22 11:20:16      0  \n",
       "3           2013-12-16 16:40:22  14768.0  2013-12-16 16:40:24      0  \n",
       "4           2014-03-28 10:56:12    782.0  2014-03-28 10:56:42      0  \n",
       "5           2014-02-28 10:57:06    178.0  2014-02-28 10:57:11      0  \n",
       "\n",
       "[5 rows x 21 columns]"
      ]
     },
     "execution_count": 17,
     "metadata": {},
     "output_type": "execute_result"
    }
   ],
   "source": [
    "#Рассмотрим структуру предоставленных данных\n",
    "train_df.head()"
   ]
  },
  {
   "cell_type": "markdown",
   "metadata": {},
   "source": [
    "Как мы видим, каждая сессия содержит уникальный идентификатор сайта site_id и время его посещения. Некоторые сессии содержат пропуски NaN, поэтому при обработке данных мы должны их заполнить, например нулями.\n",
    "\n",
    "Кроме этого сессии не упорядочены по времени начала **time1**. Необходимо удостовериться в том, что мы не нарушим временные ограничения во время обучения или кросс-валидации - к примеру не обучимся на будущем!"
   ]
  },
  {
   "cell_type": "code",
   "execution_count": 18,
   "metadata": {},
   "outputs": [
    {
     "data": {
      "text/html": [
       "<div>\n",
       "<style scoped>\n",
       "    .dataframe tbody tr th:only-of-type {\n",
       "        vertical-align: middle;\n",
       "    }\n",
       "\n",
       "    .dataframe tbody tr th {\n",
       "        vertical-align: top;\n",
       "    }\n",
       "\n",
       "    .dataframe thead th {\n",
       "        text-align: right;\n",
       "    }\n",
       "</style>\n",
       "<table border=\"1\" class=\"dataframe\">\n",
       "  <thead>\n",
       "    <tr style=\"text-align: right;\">\n",
       "      <th></th>\n",
       "      <th>site1</th>\n",
       "      <th>time1</th>\n",
       "      <th>site2</th>\n",
       "      <th>time2</th>\n",
       "      <th>site3</th>\n",
       "      <th>time3</th>\n",
       "      <th>site4</th>\n",
       "      <th>time4</th>\n",
       "      <th>site5</th>\n",
       "      <th>time5</th>\n",
       "      <th>...</th>\n",
       "      <th>time6</th>\n",
       "      <th>site7</th>\n",
       "      <th>time7</th>\n",
       "      <th>site8</th>\n",
       "      <th>time8</th>\n",
       "      <th>site9</th>\n",
       "      <th>time9</th>\n",
       "      <th>site10</th>\n",
       "      <th>time10</th>\n",
       "      <th>target</th>\n",
       "    </tr>\n",
       "    <tr>\n",
       "      <th>session_id</th>\n",
       "      <th></th>\n",
       "      <th></th>\n",
       "      <th></th>\n",
       "      <th></th>\n",
       "      <th></th>\n",
       "      <th></th>\n",
       "      <th></th>\n",
       "      <th></th>\n",
       "      <th></th>\n",
       "      <th></th>\n",
       "      <th></th>\n",
       "      <th></th>\n",
       "      <th></th>\n",
       "      <th></th>\n",
       "      <th></th>\n",
       "      <th></th>\n",
       "      <th></th>\n",
       "      <th></th>\n",
       "      <th></th>\n",
       "      <th></th>\n",
       "      <th></th>\n",
       "    </tr>\n",
       "  </thead>\n",
       "  <tbody>\n",
       "    <tr>\n",
       "      <th>21669</th>\n",
       "      <td>56</td>\n",
       "      <td>2013-01-12 08:05:57</td>\n",
       "      <td>55.0</td>\n",
       "      <td>2013-01-12 08:05:57</td>\n",
       "      <td>NaN</td>\n",
       "      <td>NaN</td>\n",
       "      <td>NaN</td>\n",
       "      <td>NaN</td>\n",
       "      <td>NaN</td>\n",
       "      <td>NaN</td>\n",
       "      <td>...</td>\n",
       "      <td>NaN</td>\n",
       "      <td>NaN</td>\n",
       "      <td>NaN</td>\n",
       "      <td>NaN</td>\n",
       "      <td>NaN</td>\n",
       "      <td>NaN</td>\n",
       "      <td>NaN</td>\n",
       "      <td>NaN</td>\n",
       "      <td>NaN</td>\n",
       "      <td>0</td>\n",
       "    </tr>\n",
       "    <tr>\n",
       "      <th>204762</th>\n",
       "      <td>222</td>\n",
       "      <td>2014-04-30 23:39:53</td>\n",
       "      <td>3346.0</td>\n",
       "      <td>2014-04-30 23:39:59</td>\n",
       "      <td>3346.0</td>\n",
       "      <td>2014-04-30 23:40:00</td>\n",
       "      <td>3359.0</td>\n",
       "      <td>2014-04-30 23:40:05</td>\n",
       "      <td>55.0</td>\n",
       "      <td>2014-04-30 23:40:05</td>\n",
       "      <td>...</td>\n",
       "      <td>2014-04-30 23:40:05</td>\n",
       "      <td>3346.0</td>\n",
       "      <td>2014-04-30 23:40:05</td>\n",
       "      <td>NaN</td>\n",
       "      <td>NaN</td>\n",
       "      <td>NaN</td>\n",
       "      <td>NaN</td>\n",
       "      <td>NaN</td>\n",
       "      <td>NaN</td>\n",
       "      <td>0</td>\n",
       "    </tr>\n",
       "  </tbody>\n",
       "</table>\n",
       "<p>2 rows × 21 columns</p>\n",
       "</div>"
      ],
      "text/plain": [
       "            site1                time1   site2                time2   site3  \\\n",
       "session_id                                                                    \n",
       "21669          56  2013-01-12 08:05:57    55.0  2013-01-12 08:05:57     NaN   \n",
       "204762        222  2014-04-30 23:39:53  3346.0  2014-04-30 23:39:59  3346.0   \n",
       "\n",
       "                          time3   site4                time4  site5  \\\n",
       "session_id                                                            \n",
       "21669                       NaN     NaN                  NaN    NaN   \n",
       "204762      2014-04-30 23:40:00  3359.0  2014-04-30 23:40:05   55.0   \n",
       "\n",
       "                          time5  ...                  time6   site7  \\\n",
       "session_id                       ...                                  \n",
       "21669                       NaN  ...                    NaN     NaN   \n",
       "204762      2014-04-30 23:40:05  ...    2014-04-30 23:40:05  3346.0   \n",
       "\n",
       "                          time7 site8  time8 site9  time9 site10  time10  \\\n",
       "session_id                                                                 \n",
       "21669                       NaN   NaN    NaN   NaN    NaN    NaN     NaN   \n",
       "204762      2014-04-30 23:40:05   NaN    NaN   NaN    NaN    NaN     NaN   \n",
       "\n",
       "           target  \n",
       "session_id         \n",
       "21669           0  \n",
       "204762          0  \n",
       "\n",
       "[2 rows x 21 columns]"
      ]
     },
     "execution_count": 18,
     "metadata": {},
     "output_type": "execute_result"
    }
   ],
   "source": [
    "# Упорядочим train по времени и посмотрим на первую и последнюю строку\n",
    "train_df = train_df.sort_values(by='time1')\n",
    "train_df.iloc[[0, -1]]"
   ]
  },
  {
   "cell_type": "code",
   "execution_count": 19,
   "metadata": {},
   "outputs": [
    {
     "data": {
      "text/html": [
       "<div>\n",
       "<style scoped>\n",
       "    .dataframe tbody tr th:only-of-type {\n",
       "        vertical-align: middle;\n",
       "    }\n",
       "\n",
       "    .dataframe tbody tr th {\n",
       "        vertical-align: top;\n",
       "    }\n",
       "\n",
       "    .dataframe thead th {\n",
       "        text-align: right;\n",
       "    }\n",
       "</style>\n",
       "<table border=\"1\" class=\"dataframe\">\n",
       "  <thead>\n",
       "    <tr style=\"text-align: right;\">\n",
       "      <th></th>\n",
       "      <th>site1</th>\n",
       "      <th>time1</th>\n",
       "      <th>site2</th>\n",
       "      <th>time2</th>\n",
       "      <th>site3</th>\n",
       "      <th>time3</th>\n",
       "      <th>site4</th>\n",
       "      <th>time4</th>\n",
       "      <th>site5</th>\n",
       "      <th>time5</th>\n",
       "      <th>site6</th>\n",
       "      <th>time6</th>\n",
       "      <th>site7</th>\n",
       "      <th>time7</th>\n",
       "      <th>site8</th>\n",
       "      <th>time8</th>\n",
       "      <th>site9</th>\n",
       "      <th>time9</th>\n",
       "      <th>site10</th>\n",
       "      <th>time10</th>\n",
       "    </tr>\n",
       "    <tr>\n",
       "      <th>session_id</th>\n",
       "      <th></th>\n",
       "      <th></th>\n",
       "      <th></th>\n",
       "      <th></th>\n",
       "      <th></th>\n",
       "      <th></th>\n",
       "      <th></th>\n",
       "      <th></th>\n",
       "      <th></th>\n",
       "      <th></th>\n",
       "      <th></th>\n",
       "      <th></th>\n",
       "      <th></th>\n",
       "      <th></th>\n",
       "      <th></th>\n",
       "      <th></th>\n",
       "      <th></th>\n",
       "      <th></th>\n",
       "      <th></th>\n",
       "      <th></th>\n",
       "    </tr>\n",
       "  </thead>\n",
       "  <tbody>\n",
       "    <tr>\n",
       "      <th>65540</th>\n",
       "      <td>21</td>\n",
       "      <td>2014-05-01 17:14:03</td>\n",
       "      <td>NaN</td>\n",
       "      <td>NaN</td>\n",
       "      <td>NaN</td>\n",
       "      <td>NaN</td>\n",
       "      <td>NaN</td>\n",
       "      <td>NaN</td>\n",
       "      <td>NaN</td>\n",
       "      <td>NaN</td>\n",
       "      <td>NaN</td>\n",
       "      <td>NaN</td>\n",
       "      <td>NaN</td>\n",
       "      <td>NaN</td>\n",
       "      <td>NaN</td>\n",
       "      <td>NaN</td>\n",
       "      <td>NaN</td>\n",
       "      <td>NaN</td>\n",
       "      <td>NaN</td>\n",
       "      <td>NaN</td>\n",
       "    </tr>\n",
       "    <tr>\n",
       "      <th>60141</th>\n",
       "      <td>56</td>\n",
       "      <td>2014-12-05 23:26:53</td>\n",
       "      <td>55.0</td>\n",
       "      <td>2014-12-05 23:26:53</td>\n",
       "      <td>56.0</td>\n",
       "      <td>2014-12-05 23:56:23</td>\n",
       "      <td>55.0</td>\n",
       "      <td>2014-12-05 23:56:23</td>\n",
       "      <td>NaN</td>\n",
       "      <td>NaN</td>\n",
       "      <td>NaN</td>\n",
       "      <td>NaN</td>\n",
       "      <td>NaN</td>\n",
       "      <td>NaN</td>\n",
       "      <td>NaN</td>\n",
       "      <td>NaN</td>\n",
       "      <td>NaN</td>\n",
       "      <td>NaN</td>\n",
       "      <td>NaN</td>\n",
       "      <td>NaN</td>\n",
       "    </tr>\n",
       "  </tbody>\n",
       "</table>\n",
       "</div>"
      ],
      "text/plain": [
       "            site1                time1  site2                time2  site3  \\\n",
       "session_id                                                                  \n",
       "65540          21  2014-05-01 17:14:03    NaN                  NaN    NaN   \n",
       "60141          56  2014-12-05 23:26:53   55.0  2014-12-05 23:26:53   56.0   \n",
       "\n",
       "                          time3  site4                time4  site5 time5  \\\n",
       "session_id                                                                 \n",
       "65540                       NaN    NaN                  NaN    NaN   NaN   \n",
       "60141       2014-12-05 23:56:23   55.0  2014-12-05 23:56:23    NaN   NaN   \n",
       "\n",
       "            site6 time6  site7 time7  site8 time8  site9 time9  site10 time10  \n",
       "session_id                                                                     \n",
       "65540         NaN   NaN    NaN   NaN    NaN   NaN    NaN   NaN     NaN    NaN  \n",
       "60141         NaN   NaN    NaN   NaN    NaN   NaN    NaN   NaN     NaN    NaN  "
      ]
     },
     "execution_count": 19,
     "metadata": {},
     "output_type": "execute_result"
    }
   ],
   "source": [
    "# Упорядочим test по времени и посмотрим на первую и последнюю строку \n",
    "test_df_sorted = test_df\n",
    "test_df_sorted = test_df_sorted.sort_values(by='time1')\n",
    "test_df_sorted.iloc[[0, -1]]"
   ]
  },
  {
   "cell_type": "markdown",
   "metadata": {},
   "source": [
    "Мы получили упорядоченные по времени тестовую и обучающую выборки и убедились в том, что они строго разделены по времени: время начала теста больше, чем последняя обучающая сессия. "
   ]
  },
  {
   "cell_type": "markdown",
   "metadata": {},
   "source": [
    "Признаки *site1*, ..., *site10* не имеют смысла как признаки в задаче классификации. Воспользуемся идеей мешка слов из анализа текстов. Создадим новые матрицы, в которых строкам будут соответствовать сессии из 10 сайтов, а столбцам – индексы сайтов. На пересечении строки $i$ и столбца $j$ будет стоять число $n_{ij}$ – cколько раз сайт $j$ встретился в сессии номер $i$. Делать это будем с помощью разреженных матриц Scipy – [csr_matrix](https://docs.scipy.org/doc/scipy-0.18.1/reference/generated/scipy.sparse.csr_matrix.html)."
   ]
  },
  {
   "cell_type": "code",
   "execution_count": 20,
   "metadata": {},
   "outputs": [],
   "source": [
    "# Создадим вспомогательную функцию csr_matrix_arrays, которая на основе полученного массива X_list, создает\n",
    "# массивы data, row, column и размеры csr-матрицы, которые далее передаются в функцию генерации  \n",
    "# csr_matrix((data, (row, column)), shape=(shape_x, shape_y))\n",
    "# Так как сайт с индексом 0 нас не интересует, то нулевой столбец разреженной матрицы не создается.\n",
    "def csr_matrix_arrays(X_list):\n",
    "    from collections import Counter\n",
    "    row = []\n",
    "    column = []\n",
    "    data = []\n",
    "    for idx, line in enumerate(X_list):\n",
    "        for i,j in Counter(line).iteritems():\n",
    "            # Фильтруем сайт с индексом 0\n",
    "            if i != 0: \n",
    "                column.append(i-1) # Из-за отсутствия 0го сайта смещаем индекс на 1 влево \n",
    "                data.append(j)\n",
    "                row.append(idx)\n",
    "                \n",
    "    shape_x = len(X_list)            \n",
    "    shape_y = len(set([item for line in X_list for item in line]))-1\n",
    "    return data, row, column, shape_x, shape_y"
   ]
  },
  {
   "cell_type": "code",
   "execution_count": 37,
   "metadata": {},
   "outputs": [
    {
     "data": {
      "text/html": [
       "<div>\n",
       "<style scoped>\n",
       "    .dataframe tbody tr th:only-of-type {\n",
       "        vertical-align: middle;\n",
       "    }\n",
       "\n",
       "    .dataframe tbody tr th {\n",
       "        vertical-align: top;\n",
       "    }\n",
       "\n",
       "    .dataframe thead th {\n",
       "        text-align: right;\n",
       "    }\n",
       "</style>\n",
       "<table border=\"1\" class=\"dataframe\">\n",
       "  <thead>\n",
       "    <tr style=\"text-align: right;\">\n",
       "      <th></th>\n",
       "      <th>site1</th>\n",
       "      <th>site2</th>\n",
       "      <th>site3</th>\n",
       "      <th>site4</th>\n",
       "      <th>site5</th>\n",
       "      <th>site6</th>\n",
       "      <th>site7</th>\n",
       "      <th>site8</th>\n",
       "      <th>site9</th>\n",
       "      <th>site10</th>\n",
       "    </tr>\n",
       "    <tr>\n",
       "      <th>session_id</th>\n",
       "      <th></th>\n",
       "      <th></th>\n",
       "      <th></th>\n",
       "      <th></th>\n",
       "      <th></th>\n",
       "      <th></th>\n",
       "      <th></th>\n",
       "      <th></th>\n",
       "      <th></th>\n",
       "      <th></th>\n",
       "    </tr>\n",
       "  </thead>\n",
       "  <tbody>\n",
       "    <tr>\n",
       "      <th>21669</th>\n",
       "      <td>56</td>\n",
       "      <td>55</td>\n",
       "      <td>0</td>\n",
       "      <td>0</td>\n",
       "      <td>0</td>\n",
       "      <td>0</td>\n",
       "      <td>0</td>\n",
       "      <td>0</td>\n",
       "      <td>0</td>\n",
       "      <td>0</td>\n",
       "    </tr>\n",
       "    <tr>\n",
       "      <th>54843</th>\n",
       "      <td>56</td>\n",
       "      <td>55</td>\n",
       "      <td>56</td>\n",
       "      <td>55</td>\n",
       "      <td>0</td>\n",
       "      <td>0</td>\n",
       "      <td>0</td>\n",
       "      <td>0</td>\n",
       "      <td>0</td>\n",
       "      <td>0</td>\n",
       "    </tr>\n",
       "    <tr>\n",
       "      <th>77292</th>\n",
       "      <td>946</td>\n",
       "      <td>946</td>\n",
       "      <td>951</td>\n",
       "      <td>946</td>\n",
       "      <td>946</td>\n",
       "      <td>945</td>\n",
       "      <td>948</td>\n",
       "      <td>784</td>\n",
       "      <td>949</td>\n",
       "      <td>946</td>\n",
       "    </tr>\n",
       "    <tr>\n",
       "      <th>114021</th>\n",
       "      <td>945</td>\n",
       "      <td>948</td>\n",
       "      <td>949</td>\n",
       "      <td>948</td>\n",
       "      <td>945</td>\n",
       "      <td>946</td>\n",
       "      <td>947</td>\n",
       "      <td>945</td>\n",
       "      <td>946</td>\n",
       "      <td>946</td>\n",
       "    </tr>\n",
       "    <tr>\n",
       "      <th>146670</th>\n",
       "      <td>947</td>\n",
       "      <td>950</td>\n",
       "      <td>948</td>\n",
       "      <td>947</td>\n",
       "      <td>950</td>\n",
       "      <td>952</td>\n",
       "      <td>946</td>\n",
       "      <td>951</td>\n",
       "      <td>946</td>\n",
       "      <td>947</td>\n",
       "    </tr>\n",
       "  </tbody>\n",
       "</table>\n",
       "</div>"
      ],
      "text/plain": [
       "            site1  site2  site3  site4  site5  site6  site7  site8  site9  \\\n",
       "session_id                                                                  \n",
       "21669          56     55      0      0      0      0      0      0      0   \n",
       "54843          56     55     56     55      0      0      0      0      0   \n",
       "77292         946    946    951    946    946    945    948    784    949   \n",
       "114021        945    948    949    948    945    946    947    945    946   \n",
       "146670        947    950    948    947    950    952    946    951    946   \n",
       "\n",
       "            site10  \n",
       "session_id          \n",
       "21669            0  \n",
       "54843            0  \n",
       "77292          946  \n",
       "114021         946  \n",
       "146670         947  "
      ]
     },
     "execution_count": 37,
     "metadata": {},
     "output_type": "execute_result"
    }
   ],
   "source": [
    "#Объединяем train и test выборки для создания csr-матрицы, заполняем NaN нулями\n",
    "train_test_df = pd.concat([train_df, test_df], sort=False)\n",
    "train_test_df_sites = train_test_df[['site%d' % i for i in range(1, 11)]].fillna(0).astype('int')\n",
    "train_test_df_sites.head()"
   ]
  },
  {
   "cell_type": "code",
   "execution_count": 186,
   "metadata": {},
   "outputs": [],
   "source": [
    "#Создаем csr-матрицу\n",
    "data, row, column, shape_x, shape_y = csr_matrix_arrays(train_test_df_sites.values)\n",
    "train_test_sparse = csr_matrix((data, (row, column)), shape=(shape_x, shape_y))\n",
    "#Снова разбиваем на train и test\n",
    "X_train_sparse = train_test_sparse[:train_df.shape[0]][:]\n",
    "X_test_sparse = train_test_sparse[train_df.shape[0]:][:]\n",
    "y = train_df['target'].astype('int').values"
   ]
  },
  {
   "cell_type": "code",
   "execution_count": 42,
   "metadata": {},
   "outputs": [
    {
     "name": "stdout",
     "output_type": "stream",
     "text": [
      "253561 48371 82797 48371\n"
     ]
    }
   ],
   "source": [
    "#Посмотрим на размеры получившихся матриц\n",
    "print (X_train_sparse.shape[0], X_train_sparse.shape[1], X_test_sparse.shape[0], X_test_sparse.shape[1])"
   ]
  },
  {
   "cell_type": "code",
   "execution_count": 43,
   "metadata": {},
   "outputs": [
    {
     "data": {
      "text/plain": [
       "48371"
      ]
     },
     "execution_count": 43,
     "metadata": {},
     "output_type": "execute_result"
    }
   ],
   "source": [
    "#Загрузим предоставленный в соревновании словарь соответствий имен сайтов и site_id и посмотрим на его размер\n",
    "with open(os.path.join(PATH_TO_DATA,'site_dic.pkl'), 'rb') as site_freq_pkl:\n",
    "        dictionary = pickle.load(site_freq_pkl)\n",
    "len(dictionary)      "
   ]
  },
  {
   "cell_type": "markdown",
   "metadata": {},
   "source": [
    "Как видно, количество столбцов в csr-матрице в точности равно размеру словаря, что соответствует логике построения матрицы"
   ]
  },
  {
   "cell_type": "markdown",
   "metadata": {},
   "source": [
    "## 2. Выбор стратегии кросс-валидации"
   ]
  },
  {
   "cell_type": "markdown",
   "metadata": {},
   "source": [
    "В качестве эксперимента давайте рассмотрим два варианта кросс-валидации: \n",
    " - StratifiedKFold с разбиением на 3 части\n",
    " - TimeSeriesSplit с разбиением на 10 частей. Смысл заключается в том, что обучающая часть fold всегда берется из ранних по времени элементов, а тестовая сразу за ней. Для массива [1 2 3 4 5 6] разбиение на 5 fold будет таким:\n",
    "    - fold 1 : training [1], test [2]\n",
    "    - fold 2 : training [1 2], test [3]\n",
    "    - fold 3 : training [1 2 3], test [4]\n",
    "    - fold 4 : training [1 2 3 4], test [5]\n",
    "    - fold 5 : training [1 2 3 4 5], test [6]\n",
    "\n",
    "Выбирая разбиение TimeSeriesSplit мы интуитивно исходим из того, что предпочтения пользователя со временем меняются и нам необходимо учитывать это во время обучения. Кроме этого кажется странным предсказывать прошлое по будущим сессиям.\n",
    "\n",
    "Далее мы будем рассматривать различные варианты построения моделей и вычислять соответствующие значения ROC AUC на кросс-валидации по обоим типам. По результатам, показанным на leaderboard, можно будет понять какая стратегия кросс-валидации больше подходит для оценки конечного результата. "
   ]
  },
  {
   "cell_type": "code",
   "execution_count": 181,
   "metadata": {},
   "outputs": [],
   "source": [
    "# Создаем разбиение\n",
    "skf = StratifiedKFold(n_splits=3, shuffle=True, random_state=17)\n",
    "time_split = TimeSeriesSplit(n_splits=10)"
   ]
  },
  {
   "cell_type": "code",
   "execution_count": 182,
   "metadata": {},
   "outputs": [],
   "source": [
    "# Построим логистическую регрессию со значениями по умолчанию\n",
    "logit = LogisticRegression(C=1, random_state=17)"
   ]
  },
  {
   "cell_type": "code",
   "execution_count": 46,
   "metadata": {},
   "outputs": [
    {
     "name": "stdout",
     "output_type": "stream",
     "text": [
      "CV_skf mean: 0.961978868196, CV_skf std: 0.0011455988543\n",
      "CPU times: user 291 ms, sys: 86.2 ms, total: 377 ms\n",
      "Wall time: 5.33 s\n"
     ]
    }
   ],
   "source": [
    "%%time\n",
    "# Значение ROC AUC при StratifiedKFold разбиении\n",
    "cv_skf_scores = cross_val_score(logit, X_train_sparse, y, cv=skf, scoring='roc_auc', n_jobs=-1)\n",
    "print(\"CV_skf mean: {}, CV_skf std: {}\".format(cv_skf_scores.mean(), cv_skf_scores.std()))"
   ]
  },
  {
   "cell_type": "code",
   "execution_count": 47,
   "metadata": {},
   "outputs": [
    {
     "name": "stdout",
     "output_type": "stream",
     "text": [
      "CV_time_split mean: 0.865794111549, CV_time_split std: 0.0749364223996\n",
      "CPU times: user 573 ms, sys: 119 ms, total: 692 ms\n",
      "Wall time: 12.6 s\n"
     ]
    }
   ],
   "source": [
    "%%time\n",
    "# Значение ROC AUC при TimeSeriesSplit разбиении\n",
    "cv_time_scores = cross_val_score(logit, X_train_sparse, y, cv=time_split, scoring='roc_auc', n_jobs=-1)\n",
    "print (\"CV_time_split mean: {}, CV_time_split std: {}\".format(cv_time_scores.mean(), cv_time_scores.std()))"
   ]
  },
  {
   "cell_type": "code",
   "execution_count": 48,
   "metadata": {},
   "outputs": [],
   "source": [
    "# Обучаем модель и делаем submission\n",
    "logit.fit(X_train_sparse, y)\n",
    "logit_pred = logit.predict_proba(X_test_sparse)[:, 1]\n",
    "write_to_submission_file(logit_pred, 'submission_logit.csv')\n",
    "# LB = 0.90812"
   ]
  },
  {
   "cell_type": "markdown",
   "metadata": {},
   "source": [
    "Попробуем подобрать параметры С, penalty логистической регрессии с помощью GridSearchCV"
   ]
  },
  {
   "cell_type": "code",
   "execution_count": 184,
   "metadata": {},
   "outputs": [],
   "source": [
    "params = {\n",
    "    'C': np.logspace(-2, 2, 10),\n",
    "    'penalty': ['l1','l2']\n",
    "}"
   ]
  },
  {
   "cell_type": "code",
   "execution_count": 81,
   "metadata": {},
   "outputs": [
    {
     "name": "stdout",
     "output_type": "stream",
     "text": [
      "0.9622912753750311 {'penalty': 'l2', 'C': 1.6681005372000592}\n",
      "CPU times: user 15.9 s, sys: 790 ms, total: 16.7 s\n",
      "Wall time: 5min 57s\n"
     ]
    }
   ],
   "source": [
    "%%time\n",
    "logit_grid_searcher_skf = GridSearchCV(estimator=logit, param_grid=params, scoring='roc_auc', n_jobs=-1, cv=skf)\n",
    "logit_grid_searcher_skf.fit(X_train_sparse, y)\n",
    "print(logit_grid_searcher_skf.best_score_, logit_grid_searcher_skf.best_params_)"
   ]
  },
  {
   "cell_type": "code",
   "execution_count": 52,
   "metadata": {},
   "outputs": [
    {
     "name": "stdout",
     "output_type": "stream",
     "text": [
      "0.8656996471239852 {'penalty': 'l2', 'C': 0.5994842503189409}\n",
      "CPU times: user 17.7 s, sys: 1.21 s, total: 18.9 s\n",
      "Wall time: 12min 58s\n"
     ]
    }
   ],
   "source": [
    "%%time\n",
    "logit_grid_searcher_time = GridSearchCV(estimator=logit, param_grid=params, scoring='roc_auc', n_jobs=-1, cv=time_split)\n",
    "logit_grid_searcher_time.fit(X_train_sparse, y)\n",
    "print(logit_grid_searcher_time.best_score_, logit_grid_searcher_time.best_params_)"
   ]
  },
  {
   "cell_type": "markdown",
   "metadata": {},
   "source": [
    "GridSearchCV при кросс-валидации подобрал параметры C, penalty отличные от default, однако значения CV не сильно отличаются от начальных.\n",
    "Попробуем сделать предсказания и посмотреть на характер зависимости значений метрики на Leaderboard от CV value"
   ]
  },
  {
   "cell_type": "code",
   "execution_count": 53,
   "metadata": {},
   "outputs": [],
   "source": [
    "logit_skf_pred = logit_grid_searcher_skf.predict_proba(X_test_sparse)[:, 1]\n",
    "write_to_submission_file(logit_skf_pred, 'submission_logit_skf.csv')\n",
    "# LB = 0.90556 Результат даже немного ухудшился"
   ]
  },
  {
   "cell_type": "code",
   "execution_count": 54,
   "metadata": {},
   "outputs": [],
   "source": [
    "logit_time_pred = logit_grid_searcher_time.predict_proba(X_test_sparse)[:, 1]\n",
    "write_to_submission_file(logit_time_pred, 'submission_logit_time.csv')\n",
    "# LB = 0.91044 Результат улучшился"
   ]
  },
  {
   "cell_type": "markdown",
   "metadata": {},
   "source": [
    "## 3. Построение новых признаков"
   ]
  },
  {
   "cell_type": "markdown",
   "metadata": {},
   "source": [
    "Построим дополнительные признаки:\n",
    "- unique sites - количество уникальных сайтов в сессии\n",
    "- start day - день недели начала сессии\n",
    "- start hour - час начала сессии\n",
    "- start month - месяц начала сессии\n",
    "- seconds - продолжительность сессии в секундах\n",
    "- minutes - продолжительность сессии в минутах "
   ]
  },
  {
   "cell_type": "code",
   "execution_count": 138,
   "metadata": {},
   "outputs": [
    {
     "name": "stdout",
     "output_type": "stream",
     "text": [
      "CPU times: user 51.9 s, sys: 584 ms, total: 52.5 s\n",
      "Wall time: 50.5 s\n"
     ]
    }
   ],
   "source": [
    "%%time\n",
    "times = ['time%s' % i for i in range(1, 11)]\n",
    "sites = ['site%s' % i for i in range(1, 11)]\n",
    "\n",
    "X_add = train_test_df[times].apply(pd.to_datetime)\n",
    "\n",
    "X_add['start day'] = X_add['time1'].apply(lambda x: x.dayofweek)\n",
    "X_add['start hour'] = X_add['time1'].apply(lambda x: x.hour)\n",
    "X_add['start month'] = X_add['time1'].apply(lambda x: x.month)\n",
    "\n",
    "X_add['unique sites'] = train_test_df[sites].apply(pd.Series.nunique, axis=1)\n",
    "\n",
    "X_add['min'] = X_add[times].min(axis=1)\n",
    "X_add['max'] = X_add[times].max(axis=1)\n",
    "X_add['seconds'] = ((X_add['max'] - X_add['min']) / np.timedelta64(1, 's'))\n",
    "X_add['minutes'] = ((X_add['max'] - X_add['min']) / np.timedelta64(1, 'm')).round(2)\n",
    "X_add.drop(['min','max'], inplace=True, axis=1)\n",
    "X_add.drop(times, inplace=True, axis=1)\n",
    "\n",
    "data = X_add # сохраним ссылку на X_add в data"
   ]
  },
  {
   "cell_type": "code",
   "execution_count": 140,
   "metadata": {},
   "outputs": [],
   "source": [
    "features_cat = ['start day', 'start hour', 'start month']\n",
    "features_scale = ['unique sites', 'seconds', 'minutes']"
   ]
  },
  {
   "cell_type": "code",
   "execution_count": 141,
   "metadata": {},
   "outputs": [],
   "source": [
    "# Произведем преобразование категориальных признаков \n",
    "X_add = pd.get_dummies(X_add, columns=features_cat)"
   ]
  },
  {
   "cell_type": "code",
   "execution_count": 142,
   "metadata": {},
   "outputs": [],
   "source": [
    "# Произведем нормирование числовых признаков\n",
    "X_add[features_scale] = StandardScaler().fit_transform(X_add[features_scale])"
   ]
  },
  {
   "cell_type": "code",
   "execution_count": 143,
   "metadata": {},
   "outputs": [
    {
     "data": {
      "text/html": [
       "<div>\n",
       "<style scoped>\n",
       "    .dataframe tbody tr th:only-of-type {\n",
       "        vertical-align: middle;\n",
       "    }\n",
       "\n",
       "    .dataframe tbody tr th {\n",
       "        vertical-align: top;\n",
       "    }\n",
       "\n",
       "    .dataframe thead th {\n",
       "        text-align: right;\n",
       "    }\n",
       "</style>\n",
       "<table border=\"1\" class=\"dataframe\">\n",
       "  <thead>\n",
       "    <tr style=\"text-align: right;\">\n",
       "      <th></th>\n",
       "      <th>unique sites</th>\n",
       "      <th>seconds</th>\n",
       "      <th>minutes</th>\n",
       "      <th>start day_0</th>\n",
       "      <th>start day_1</th>\n",
       "      <th>start day_2</th>\n",
       "      <th>start day_3</th>\n",
       "      <th>start day_4</th>\n",
       "      <th>start day_5</th>\n",
       "      <th>start day_6</th>\n",
       "      <th>...</th>\n",
       "      <th>start month_3</th>\n",
       "      <th>start month_4</th>\n",
       "      <th>start month_5</th>\n",
       "      <th>start month_6</th>\n",
       "      <th>start month_7</th>\n",
       "      <th>start month_8</th>\n",
       "      <th>start month_9</th>\n",
       "      <th>start month_10</th>\n",
       "      <th>start month_11</th>\n",
       "      <th>start month_12</th>\n",
       "    </tr>\n",
       "    <tr>\n",
       "      <th>session_id</th>\n",
       "      <th></th>\n",
       "      <th></th>\n",
       "      <th></th>\n",
       "      <th></th>\n",
       "      <th></th>\n",
       "      <th></th>\n",
       "      <th></th>\n",
       "      <th></th>\n",
       "      <th></th>\n",
       "      <th></th>\n",
       "      <th></th>\n",
       "      <th></th>\n",
       "      <th></th>\n",
       "      <th></th>\n",
       "      <th></th>\n",
       "      <th></th>\n",
       "      <th></th>\n",
       "      <th></th>\n",
       "      <th></th>\n",
       "      <th></th>\n",
       "      <th></th>\n",
       "    </tr>\n",
       "  </thead>\n",
       "  <tbody>\n",
       "    <tr>\n",
       "      <th>21669</th>\n",
       "      <td>-1.401301</td>\n",
       "      <td>-0.468611</td>\n",
       "      <td>-0.468613</td>\n",
       "      <td>0</td>\n",
       "      <td>0</td>\n",
       "      <td>0</td>\n",
       "      <td>0</td>\n",
       "      <td>0</td>\n",
       "      <td>1</td>\n",
       "      <td>0</td>\n",
       "      <td>...</td>\n",
       "      <td>0</td>\n",
       "      <td>0</td>\n",
       "      <td>0</td>\n",
       "      <td>0</td>\n",
       "      <td>0</td>\n",
       "      <td>0</td>\n",
       "      <td>0</td>\n",
       "      <td>0</td>\n",
       "      <td>0</td>\n",
       "      <td>0</td>\n",
       "    </tr>\n",
       "    <tr>\n",
       "      <th>54843</th>\n",
       "      <td>-1.401301</td>\n",
       "      <td>5.622634</td>\n",
       "      <td>5.623311</td>\n",
       "      <td>0</td>\n",
       "      <td>0</td>\n",
       "      <td>0</td>\n",
       "      <td>0</td>\n",
       "      <td>0</td>\n",
       "      <td>1</td>\n",
       "      <td>0</td>\n",
       "      <td>...</td>\n",
       "      <td>0</td>\n",
       "      <td>0</td>\n",
       "      <td>0</td>\n",
       "      <td>0</td>\n",
       "      <td>0</td>\n",
       "      <td>0</td>\n",
       "      <td>0</td>\n",
       "      <td>0</td>\n",
       "      <td>0</td>\n",
       "      <td>0</td>\n",
       "    </tr>\n",
       "    <tr>\n",
       "      <th>77292</th>\n",
       "      <td>0.177483</td>\n",
       "      <td>-0.454969</td>\n",
       "      <td>-0.454288</td>\n",
       "      <td>0</td>\n",
       "      <td>0</td>\n",
       "      <td>0</td>\n",
       "      <td>0</td>\n",
       "      <td>0</td>\n",
       "      <td>1</td>\n",
       "      <td>0</td>\n",
       "      <td>...</td>\n",
       "      <td>0</td>\n",
       "      <td>0</td>\n",
       "      <td>0</td>\n",
       "      <td>0</td>\n",
       "      <td>0</td>\n",
       "      <td>0</td>\n",
       "      <td>0</td>\n",
       "      <td>0</td>\n",
       "      <td>0</td>\n",
       "      <td>0</td>\n",
       "    </tr>\n",
       "    <tr>\n",
       "      <th>114021</th>\n",
       "      <td>-0.217213</td>\n",
       "      <td>-0.458380</td>\n",
       "      <td>-0.458381</td>\n",
       "      <td>0</td>\n",
       "      <td>0</td>\n",
       "      <td>0</td>\n",
       "      <td>0</td>\n",
       "      <td>0</td>\n",
       "      <td>1</td>\n",
       "      <td>0</td>\n",
       "      <td>...</td>\n",
       "      <td>0</td>\n",
       "      <td>0</td>\n",
       "      <td>0</td>\n",
       "      <td>0</td>\n",
       "      <td>0</td>\n",
       "      <td>0</td>\n",
       "      <td>0</td>\n",
       "      <td>0</td>\n",
       "      <td>0</td>\n",
       "      <td>0</td>\n",
       "    </tr>\n",
       "    <tr>\n",
       "      <th>146670</th>\n",
       "      <td>0.177483</td>\n",
       "      <td>-0.461790</td>\n",
       "      <td>-0.462474</td>\n",
       "      <td>0</td>\n",
       "      <td>0</td>\n",
       "      <td>0</td>\n",
       "      <td>0</td>\n",
       "      <td>0</td>\n",
       "      <td>1</td>\n",
       "      <td>0</td>\n",
       "      <td>...</td>\n",
       "      <td>0</td>\n",
       "      <td>0</td>\n",
       "      <td>0</td>\n",
       "      <td>0</td>\n",
       "      <td>0</td>\n",
       "      <td>0</td>\n",
       "      <td>0</td>\n",
       "      <td>0</td>\n",
       "      <td>0</td>\n",
       "      <td>0</td>\n",
       "    </tr>\n",
       "  </tbody>\n",
       "</table>\n",
       "<p>5 rows × 39 columns</p>\n",
       "</div>"
      ],
      "text/plain": [
       "            unique sites   seconds   minutes  start day_0  start day_1  \\\n",
       "session_id                                                               \n",
       "21669          -1.401301 -0.468611 -0.468613            0            0   \n",
       "54843          -1.401301  5.622634  5.623311            0            0   \n",
       "77292           0.177483 -0.454969 -0.454288            0            0   \n",
       "114021         -0.217213 -0.458380 -0.458381            0            0   \n",
       "146670          0.177483 -0.461790 -0.462474            0            0   \n",
       "\n",
       "            start day_2  start day_3  start day_4  start day_5  start day_6  \\\n",
       "session_id                                                                    \n",
       "21669                 0            0            0            1            0   \n",
       "54843                 0            0            0            1            0   \n",
       "77292                 0            0            0            1            0   \n",
       "114021                0            0            0            1            0   \n",
       "146670                0            0            0            1            0   \n",
       "\n",
       "                 ...        start month_3  start month_4  start month_5  \\\n",
       "session_id       ...                                                      \n",
       "21669            ...                    0              0              0   \n",
       "54843            ...                    0              0              0   \n",
       "77292            ...                    0              0              0   \n",
       "114021           ...                    0              0              0   \n",
       "146670           ...                    0              0              0   \n",
       "\n",
       "            start month_6  start month_7  start month_8  start month_9  \\\n",
       "session_id                                                               \n",
       "21669                   0              0              0              0   \n",
       "54843                   0              0              0              0   \n",
       "77292                   0              0              0              0   \n",
       "114021                  0              0              0              0   \n",
       "146670                  0              0              0              0   \n",
       "\n",
       "            start month_10  start month_11  start month_12  \n",
       "session_id                                                  \n",
       "21669                    0               0               0  \n",
       "54843                    0               0               0  \n",
       "77292                    0               0               0  \n",
       "114021                   0               0               0  \n",
       "146670                   0               0               0  \n",
       "\n",
       "[5 rows x 39 columns]"
      ]
     },
     "execution_count": 143,
     "metadata": {},
     "output_type": "execute_result"
    }
   ],
   "source": [
    "# Посмотрим на получившийся dataframe\n",
    "X_add.head()"
   ]
  },
  {
   "cell_type": "code",
   "execution_count": 146,
   "metadata": {},
   "outputs": [],
   "source": [
    "# Сохраним получившиеся признаки\n",
    "with open(os.path.join(PATH_TO_DATA, \n",
    "                       'Alice_new_features.pkl'), 'wb') as new_features_pkl:\n",
    "    pickle.dump(X_add, new_features_pkl, \n",
    "                protocol=2)"
   ]
  },
  {
   "cell_type": "code",
   "execution_count": 71,
   "metadata": {},
   "outputs": [],
   "source": [
    "# Добавим признаки в обучающую и тестовую выборки\n",
    "from scipy.sparse import hstack\n",
    "X_train = hstack((X_train_sparse, X_add.values[:train_df.shape[0]]))\n",
    "X_test = hstack((X_test_sparse, X_add.values[train_df.shape[0]:]))"
   ]
  },
  {
   "cell_type": "markdown",
   "metadata": {},
   "source": [
    "**Произведем подбор параметров логистической регрессии для получившегося набора признаков**"
   ]
  },
  {
   "cell_type": "code",
   "execution_count": 73,
   "metadata": {},
   "outputs": [
    {
     "name": "stdout",
     "output_type": "stream",
     "text": [
      "0.9891516435415935 {'penalty': 'l2', 'C': 4.6415888336127775}\n",
      "CPU times: user 20.1 s, sys: 963 ms, total: 21.1 s\n",
      "Wall time: 17min 53s\n"
     ]
    }
   ],
   "source": [
    "# SKF кросс-валидация\n",
    "%%time\n",
    "logit_grid_searcher_skf_new_fe = GridSearchCV(estimator=logit, param_grid=params, scoring='roc_auc', n_jobs=-1, cv=skf)\n",
    "logit_grid_searcher_skf_new_fe.fit(X_train, y)\n",
    "print(logit_grid_searcher_skf_new_fe.best_score_, logit_grid_searcher_skf_new_fe.best_params_)"
   ]
  },
  {
   "cell_type": "code",
   "execution_count": 74,
   "metadata": {},
   "outputs": [
    {
     "name": "stdout",
     "output_type": "stream",
     "text": [
      "0.9168446111393702 {'penalty': 'l2', 'C': 1.6681005372000592}\n",
      "CPU times: user 29.3 s, sys: 1.84 s, total: 31.1 s\n",
      "Wall time: 41min 29s\n"
     ]
    }
   ],
   "source": [
    "# TimeSplit кросс-валидация\n",
    "%%time\n",
    "logit_grid_searcher_time_new_fe = GridSearchCV(estimator=logit, param_grid=params, scoring='roc_auc', n_jobs=-1, cv=time_split)\n",
    "logit_grid_searcher_time_new_fe.fit(X_train, y)\n",
    "print(logit_grid_searcher_time_new_fe.best_score_, logit_grid_searcher_time_new_fe.best_params_)"
   ]
  },
  {
   "cell_type": "markdown",
   "metadata": {},
   "source": [
    "Значения ROC AUC на CV увеличились в обоих случаях! Делаем предположение, что и результат на Leaderboard вырастет. "
   ]
  },
  {
   "cell_type": "markdown",
   "metadata": {},
   "source": [
    "**Сделаем предсказания и submission**"
   ]
  },
  {
   "cell_type": "code",
   "execution_count": 75,
   "metadata": {},
   "outputs": [],
   "source": [
    "logit_skf_new_fe_pred = logit_grid_searcher_skf_new_fe.predict_proba(X_test)[:, 1]\n",
    "write_to_submission_file(logit_skf_new_fe_pred, 'submission_logit_skf_new_fe.csv')\n",
    "# LB = 0.93971 Результат улучшился"
   ]
  },
  {
   "cell_type": "code",
   "execution_count": 76,
   "metadata": {},
   "outputs": [],
   "source": [
    "logit_time_new_fe_pred = logit_grid_searcher_time_new_fe.predict_proba(X_test)[:, 1]\n",
    "write_to_submission_file(logit_time_new_fe_pred, 'submission_logit_time_new_fe.csv')\n",
    "# LB = 0.94400 Результат улучшился"
   ]
  },
  {
   "cell_type": "code",
   "execution_count": 82,
   "metadata": {},
   "outputs": [],
   "source": [
    "# Поместим получившиеся значения CV и Leaderboard в массив\n",
    "cv_skf = [cv_skf_scores.mean(), logit_grid_searcher_skf.best_score_, logit_grid_searcher_skf_new_fe.best_score_]\n",
    "lb_skf = [0.90812, 0.90556, 0.93971]\n",
    "cv_time = [cv_time_scores.mean(), logit_grid_searcher_time.best_score_, logit_grid_searcher_time_new_fe.best_score_ ]\n",
    "lb_time = [0.90812, 0.91044, 0.94400]"
   ]
  },
  {
   "cell_type": "code",
   "execution_count": 6,
   "metadata": {},
   "outputs": [
    {
     "name": "stdout",
     "output_type": "stream",
     "text": [
      "cv_skf: [0.961978868196006, 0.9622912753750311, 0.9891516435415935]\n",
      "lb_skf: [0.90812, 0.90556, 0.93971]\n",
      "cv_time: [0.8657941115491294, 0.8656996471239852, 0.9168446111393702]\n",
      "lb_time: [0.90812, 0.91044, 0.944]\n"
     ]
    }
   ],
   "source": [
    "print ('cv_skf:', cv_skf)\n",
    "print ('lb_skf:', lb_skf)\n",
    "print ('cv_time:', cv_time)\n",
    "print ('lb_time:', lb_time)\n"
   ]
  },
  {
   "cell_type": "code",
   "execution_count": 7,
   "metadata": {},
   "outputs": [
    {
     "data": {
      "image/png": "[encoded data removed]",
      "text/plain": [
       "<Figure size 432x288 with 1 Axes>"
      ]
     },
     "metadata": {
      "needs_background": "light"
     },
     "output_type": "display_data"
    }
   ],
   "source": [
    "#  Начертим график зависимости значения ROC AUC на LB от значения на кросс-валидации\n",
    "fig, ax = plt.subplots()\n",
    "ax.plot(cv_skf, lb_skf, 'b', label='SKF')\n",
    "ax.plot(cv_time, lb_time, 'g', label='TimeSplit')\n",
    "ax.set_xlabel('CV value')\n",
    "ax.set_ylabel('Leaderboard')\n",
    "ax.legend()\n",
    "plt.show()"
   ]
  },
  {
   "cell_type": "markdown",
   "metadata": {},
   "source": [
    "**Выводы:**\n",
    "\n",
    " - На обоих графиках мы видим возрастающую функцию, значит результат на Leaderboard тем лучше, чем выше значение на кросс-валидации.\n",
    " - Добавление новых признаков дает улучшение результата"
   ]
  },
  {
   "cell_type": "markdown",
   "metadata": {},
   "source": [
    "## 4. Применение TF-IDF"
   ]
  },
  {
   "cell_type": "markdown",
   "metadata": {},
   "source": [
    "Попробуем поэкспериментировать с TF-IDF. Идея заключается в том, что значения site_id в сессии мы можем принять за слова и в этом случае сессии будут являться последовательностью слов. Применим к ним TfidfVectorizer с параметром n-gram = (1,3), то есть TfidfVectorizer будет рассматривать последовательности сайтов длиной 1,2 и 3."
   ]
  },
  {
   "cell_type": "code",
   "execution_count": 173,
   "metadata": {},
   "outputs": [],
   "source": [
    "# Заменяем NaN на 0 и объединяем все site_id в одну последовательность с разделителем в виде пробела\n",
    "tf_idf = train_test_df[sites].fillna(0).astype('int')\n",
    "tf_idf['words'] = tf_idf[sites].astype(np.str).apply(' '.join, axis=1)"
   ]
  },
  {
   "cell_type": "code",
   "execution_count": 174,
   "metadata": {},
   "outputs": [],
   "source": [
    "words = TfidfVectorizer(max_features=50000, ngram_range=(1, 3)).fit_transform(tf_idf['words'])\n",
    "tf_idf.drop(['words'], inplace=True, axis=1)"
   ]
  },
  {
   "cell_type": "code",
   "execution_count": 175,
   "metadata": {},
   "outputs": [],
   "source": [
    "# Создаем тестовую и обучающую выборки\n",
    "X_tf_idf_train_sparse = words[:train_df.shape[0]]\n",
    "X_tf_idf_test_sparse = words[train_df.shape[0]:]"
   ]
  },
  {
   "cell_type": "code",
   "execution_count": 178,
   "metadata": {},
   "outputs": [],
   "source": [
    "# Добавляем новые признаки\n",
    "X_tf_idf_train = hstack((X_tf_idf_train_sparse, X_add.values[:train_df.shape[0]]))\n",
    "X_tf_idf_test = hstack((X_tf_idf_test_sparse, X_add.values[train_df.shape[0]:]))"
   ]
  },
  {
   "cell_type": "code",
   "execution_count": 144,
   "metadata": {},
   "outputs": [
    {
     "data": {
      "text/plain": [
       "(253561, 50039)"
      ]
     },
     "execution_count": 144,
     "metadata": {},
     "output_type": "execute_result"
    }
   ],
   "source": [
    "#X_tf_idf_train.shape"
   ]
  },
  {
   "cell_type": "markdown",
   "metadata": {},
   "source": [
    "**Подбираем параметры**"
   ]
  },
  {
   "cell_type": "code",
   "execution_count": 145,
   "metadata": {},
   "outputs": [
    {
     "name": "stdout",
     "output_type": "stream",
     "text": [
      "0.9879776826070505 {'penalty': 'l2', 'C': 12.915496650148826}\n",
      "CPU times: user 24.2 s, sys: 891 ms, total: 25.1 s\n",
      "Wall time: 15min 48s\n"
     ]
    }
   ],
   "source": [
    "%%time\n",
    "logit_grid_searcher_skf_new_fe_tf_idf = GridSearchCV(estimator=logit, param_grid=params, scoring='roc_auc', n_jobs=-1, cv=skf)\n",
    "logit_grid_searcher_skf_new_fe_tf_idf.fit(X_tf_idf_train, y)\n",
    "print(logit_grid_searcher_skf_new_fe_tf_idf.best_score_, logit_grid_searcher_skf_new_fe_tf_idf.best_params_)"
   ]
  },
  {
   "cell_type": "code",
   "execution_count": 146,
   "metadata": {},
   "outputs": [
    {
     "name": "stdout",
     "output_type": "stream",
     "text": [
      "0.9120791302303046 {'penalty': 'l2', 'C': 4.6415888336127775}\n",
      "CPU times: user 37.9 s, sys: 2.05 s, total: 39.9 s\n",
      "Wall time: 39min 6s\n"
     ]
    }
   ],
   "source": [
    "%%time\n",
    "logit_grid_searcher_time_new_fe_tf_idf = GridSearchCV(estimator=logit, param_grid=params, scoring='roc_auc', n_jobs=-1, cv=time_split)\n",
    "logit_grid_searcher_time_new_fe_tf_idf.fit(X_tf_idf_train, y)\n",
    "print(logit_grid_searcher_time_new_fe_tf_idf.best_score_, logit_grid_searcher_time_new_fe_tf_idf.best_params_)"
   ]
  },
  {
   "cell_type": "markdown",
   "metadata": {},
   "source": [
    "**Делаем предсказания и submission**"
   ]
  },
  {
   "cell_type": "code",
   "execution_count": 147,
   "metadata": {},
   "outputs": [],
   "source": [
    "logit_skf_new_fe_tf_idf_pred = logit_grid_searcher_skf_new_fe_tf_idf.predict_proba(X_tf_idf_test)[:, 1]\n",
    "write_to_submission_file(logit_skf_new_fe_tf_idf_pred, 'submission_logit_skf_new_fe_tf_idf.csv')\n",
    "# LB = 0.94734 Улучшение!"
   ]
  },
  {
   "cell_type": "code",
   "execution_count": 148,
   "metadata": {},
   "outputs": [],
   "source": [
    "logit_time_new_fe_tf_idf_pred = logit_grid_searcher_time_new_fe_tf_idf.predict_proba(X_tf_idf_test)[:, 1]\n",
    "write_to_submission_file(logit_time_new_fe_tf_idf_pred, 'submission_logit_time_new_fe_tf_idf.csv')\n",
    "# LB = 0.94987 Новый рекорд!"
   ]
  },
  {
   "cell_type": "code",
   "execution_count": 11,
   "metadata": {},
   "outputs": [],
   "source": [
    "# Поместим результаты в массив\n",
    "tf_idf_lb = [0.94734, 0.94987]\n",
    "tf_idf_cv = [logit_grid_searcher_skf_new_fe_tf_idf.best_score_, logit_grid_searcher_time_new_fe_tf_idf.best_score_]"
   ]
  },
  {
   "cell_type": "code",
   "execution_count": 12,
   "metadata": {},
   "outputs": [
    {
     "data": {
      "image/png": "[encoded data removed]",
      "text/plain": [
       "<Figure size 432x288 with 1 Axes>"
      ]
     },
     "metadata": {
      "needs_background": "light"
     },
     "output_type": "display_data"
    }
   ],
   "source": [
    "# Поместим получившиеся значения ROC AUC на CV и LB на предыдущий график \n",
    "fig, ax = plt.subplots()\n",
    "ax.plot(cv_skf, lb_skf, 'b', label='SKF')\n",
    "ax.plot(cv_time, lb_time, 'g', label='TimeSplit')\n",
    "ax.set_xlabel('CV value')\n",
    "ax.set_ylabel('Leaderboard')\n",
    "ax.plot(tf_idf_cv, tf_idf_lb, 'ro', label='TF-IDF')\n",
    "ax.legend()\n",
    "plt.show()"
   ]
  },
  {
   "cell_type": "markdown",
   "metadata": {},
   "source": [
    "**Выводы:**\n",
    "\n",
    " - При применении TF_IDF даже при меньших значениях метрики на кросс-валидации результат на Leaderboard лучше, чем Sparse matrix (bag of words)\n",
    " - Подбор параметров при TimeSplit кросс-валидации дает более высокий результат, чем при SKF\n",
    " - Но в любом случае рост значения на кросс-валидации обеспечивает улучшение на Leaderboard, поэтому оба варианта подходят для предварительной оценки качества модели.\n",
    " \n",
    "**Далее будем применять TF-IDF и TimeSplit кросс-валидацию для оценки качества получившихся моделей**"
   ]
  },
  {
   "cell_type": "markdown",
   "metadata": {},
   "source": [
    "## 5. Визуальный анализ и дополнительные признаки"
   ]
  },
  {
   "cell_type": "markdown",
   "metadata": {},
   "source": [
    "Изучим получившиеся признаки более подробно"
   ]
  },
  {
   "cell_type": "code",
   "execution_count": 150,
   "metadata": {},
   "outputs": [],
   "source": [
    "data['target'] = train_test_df['target']"
   ]
  },
  {
   "cell_type": "markdown",
   "metadata": {},
   "source": [
    "**Посмотрим на распределение признаков start day, start hour, start month**"
   ]
  },
  {
   "cell_type": "code",
   "execution_count": 151,
   "metadata": {},
   "outputs": [
    {
     "data": {
      "image/png": "[encoded data removed]",
      "text/plain": [
       "<Figure size 1440x360 with 3 Axes>"
      ]
     },
     "metadata": {},
     "output_type": "display_data"
    }
   ],
   "source": [
    "# Start day\n",
    "fig, axes = plt.subplots(nrows=1, ncols=3, figsize=(20,5))\n",
    "fig.suptitle(\"Start day distribution\", fontsize=16)\n",
    "sns.countplot(x=\"start day\", data=data[data.target==1][:idx], ax=axes[0])\n",
    "axes[0].set_title(\"Alice\", fontsize=14)\n",
    "sns.countplot(x=\"start day\", data=data[data.target==0][:idx], ax=axes[1])\n",
    "axes[1].set_title(\"Not Alice\", fontsize=14)\n",
    "sns.countplot(x=\"start day\", data=data[idx:], ax=axes[2]); \n",
    "axes[2].set_title(\"Test sample\", fontsize=14)\n",
    "plt.show()"
   ]
  },
  {
   "cell_type": "markdown",
   "metadata": {},
   "source": [
    "**Alice активно пользуется интернетом в понедельник, вторник, четверг и пятницу**\n",
    "\n",
    "Можно попробовать создать новые признаки, которые это будут учитывать. Например:\n",
    "\n",
    " - favorite days - признак равен 1, если start day in [0,1,3,4]\n",
    " - wednesday - признак равен 1, если start day = 2\n",
    " - weekend - признак равен 1, если start day in [5,6]"
   ]
  },
  {
   "cell_type": "code",
   "execution_count": 152,
   "metadata": {},
   "outputs": [],
   "source": [
    "data['favorite days'] = data['start day'].apply(lambda x: x in [0,1,3,4]).astype('int')\n",
    "data['wednesday'] = data['start day'].apply(lambda x: x == 2).astype('int')\n",
    "data['weekend'] = data['start day'].apply(lambda x: x in [5,6]).astype('int')"
   ]
  },
  {
   "cell_type": "code",
   "execution_count": 153,
   "metadata": {},
   "outputs": [
    {
     "data": {
      "image/png": "[encoded data removed]",
      "text/plain": [
       "<Figure size 1440x360 with 3 Axes>"
      ]
     },
     "metadata": {},
     "output_type": "display_data"
    }
   ],
   "source": [
    "# Start hour\n",
    "fig, axes = plt.subplots(nrows=1, ncols=3, figsize=(20,5))\n",
    "fig.suptitle(\"Start hour distribution\", fontsize=16)\n",
    "sns.countplot(x=\"start hour\", data=data[data.target==1][:idx], ax=axes[0])\n",
    "axes[0].set_title(\"Alice\", fontsize=14)\n",
    "sns.countplot(x=\"start hour\", data=data[data.target==0][:idx], ax=axes[1])\n",
    "axes[1].set_title(\"Not Alice\", fontsize=14)\n",
    "sns.countplot(x=\"start hour\", data=data[idx:], ax=axes[2]); \n",
    "axes[2].set_title(\"Test sample\", fontsize=14)\n",
    "plt.show()"
   ]
  },
  {
   "cell_type": "markdown",
   "metadata": {},
   "source": [
    "**Здесь также можно выделить характерные для Alice часы**\n",
    "\n",
    "Попробуем следующие признаки:\n",
    " - morning (с 7 до 11)\n",
    " - day (с 12 до 15)\n",
    " - evening (с 16 до 18)\n",
    " - night (с 19 до 23)"
   ]
  },
  {
   "cell_type": "code",
   "execution_count": 154,
   "metadata": {},
   "outputs": [],
   "source": [
    "data['morning'] = data['start hour'].apply(lambda x: (x >= 7) & (x < 12)).astype('int')\n",
    "data['day'] = data['start hour'].apply(lambda x: (x >= 12) & (x < 16)).astype('int')\n",
    "data['evening'] = data['start hour'].apply(lambda x: (x >= 16) & (x < 19)).astype('int')\n",
    "data['night'] = data['start hour'].apply(lambda x: (x >= 19) & (x <= 23)).astype('int')"
   ]
  },
  {
   "cell_type": "code",
   "execution_count": 155,
   "metadata": {},
   "outputs": [
    {
     "data": {
      "image/png": "[encoded data removed]",
      "text/plain": [
       "<Figure size 1440x360 with 3 Axes>"
      ]
     },
     "metadata": {},
     "output_type": "display_data"
    }
   ],
   "source": [
    "# Start month\n",
    "fig, axes = plt.subplots(nrows=1, ncols=3, figsize=(20,5))\n",
    "fig.suptitle(\"Start month distribution\", fontsize=16)\n",
    "sns.countplot(x=\"start month\", data=data[data.target==1][:idx], ax=axes[0])\n",
    "axes[0].set_title(\"Alice\", fontsize=14)\n",
    "sns.countplot(x=\"start month\", data=data[data.target==0][:idx], ax=axes[1])\n",
    "axes[1].set_title(\"Not Alice\", fontsize=14)\n",
    "sns.countplot(x=\"start month\", data=data[idx:], ax=axes[2]); \n",
    "axes[2].set_title(\"Test sample\", fontsize=14)\n",
    "plt.show()"
   ]
  },
  {
   "cell_type": "markdown",
   "metadata": {},
   "source": [
    "**На представленном графике довольно сложно построить какие-то закономерности в поведении Alice. Возможно это связано с тем, что в признаке month смешиваются два года 2013 и 2014. Далее мы попробуем это проанализировать.**"
   ]
  },
  {
   "cell_type": "markdown",
   "metadata": {},
   "source": [
    "Посмотрим на последний признак - число уникальных сайтов"
   ]
  },
  {
   "cell_type": "code",
   "execution_count": 156,
   "metadata": {},
   "outputs": [
    {
     "data": {
      "image/png": "[encoded data removed]",
      "text/plain": [
       "<Figure size 1440x360 with 3 Axes>"
      ]
     },
     "metadata": {},
     "output_type": "display_data"
    }
   ],
   "source": [
    "# Unique sites\n",
    "fig, axes = plt.subplots(nrows=1, ncols=3, figsize=(20,5))\n",
    "fig.suptitle(\"Unique sites distribution\", fontsize=16)\n",
    "sns.countplot(x=\"unique sites\", data=data[data.target==1][:idx], ax=axes[0])\n",
    "axes[0].set_title(\"Alice\", fontsize=14)\n",
    "sns.countplot(x=\"unique sites\", data=data[data.target==0][:idx], ax=axes[1])\n",
    "axes[1].set_title(\"Not Alice\", fontsize=14)\n",
    "sns.countplot(x=\"unique sites\", data=data[idx:], ax=axes[2]); \n",
    "axes[2].set_title(\"Test sample\", fontsize=14)\n",
    "plt.show()"
   ]
  },
  {
   "cell_type": "markdown",
   "metadata": {},
   "source": [
    "**Особенности поведения Alice на этом признаке (unique sites) установить сложно, возможно признак бесполезен**"
   ]
  },
  {
   "cell_type": "markdown",
   "metadata": {},
   "source": [
    "Посмотрим на распределения длины сессии для Alice и остальных пользователей"
   ]
  },
  {
   "cell_type": "code",
   "execution_count": 157,
   "metadata": {},
   "outputs": [
    {
     "data": {
      "text/plain": [
       "(-30, 300)"
      ]
     },
     "execution_count": 157,
     "metadata": {},
     "output_type": "execute_result"
    },
    {
     "data": {
      "image/png": "[encoded data removed]",
      "text/plain": [
       "<Figure size 432x288 with 1 Axes>"
      ]
     },
     "metadata": {},
     "output_type": "display_data"
    }
   ],
   "source": [
    "# Посмотрим на распределения длины сессии для Alice\n",
    "sns.boxplot(x='target', y='seconds', data=data[:idx])\n",
    "plt.ylim(-30,300)"
   ]
  },
  {
   "cell_type": "markdown",
   "metadata": {},
   "source": [
    "**Длина сессии у Alice обычно короче, чем у других пользователей**\n",
    "\n",
    "Можно попробовать признак:\n",
    "    - short session, если длина в секундах меньше 50\n",
    "    - long session, если длина больше 50"
   ]
  },
  {
   "cell_type": "code",
   "execution_count": 158,
   "metadata": {},
   "outputs": [],
   "source": [
    "data['short session'] = data['seconds'].apply(lambda x: x < 50).astype('int')\n",
    "data['long session'] = data['seconds'].apply(lambda x: x >= 50).astype('int')"
   ]
  },
  {
   "cell_type": "markdown",
   "metadata": {},
   "source": [
    "**Рассмотрим признак month в разрезе лет**"
   ]
  },
  {
   "cell_type": "code",
   "execution_count": 159,
   "metadata": {},
   "outputs": [],
   "source": [
    "data['start year'] = train_test_df['time1'].apply(pd.to_datetime).apply(lambda x: x.year)"
   ]
  },
  {
   "cell_type": "code",
   "execution_count": 160,
   "metadata": {},
   "outputs": [
    {
     "data": {
      "image/png": "[encoded data removed]",
      "text/plain": [
       "<Figure size 1440x720 with 4 Axes>"
      ]
     },
     "metadata": {},
     "output_type": "display_data"
    }
   ],
   "source": [
    "# Start month по годам\n",
    "fig, axes = plt.subplots(nrows=2, ncols=2, figsize=(20,10))\n",
    "fig.suptitle(\"Start month distribution\", fontsize=16)\n",
    "sns.countplot(x=\"start month\", data=data[(data.target==1) & (data['start year']==2013)][:idx], ax=axes[0][0])\n",
    "axes[0][0].set_title(\"Alice 2013\", fontsize=14)\n",
    "sns.countplot(x=\"start month\", data=data[(data.target==0) & (data['start year']==2013)][:idx], ax=axes[0][1])\n",
    "axes[0][1].set_title(\"Not Alice 2013\", fontsize=14)\n",
    "\n",
    "sns.countplot(x=\"start month\", data=data[(data.target==1) & (data['start year']==2014)][:idx], ax=axes[1][0])\n",
    "axes[1][0].set_title(\"Alice 2014\", fontsize=14)\n",
    "sns.countplot(x=\"start month\", data=data[(data.target==0) & (data['start year']==2014)][:idx], ax=axes[1][1])\n",
    "axes[1][1].set_title(\"Not Alice 2014\", fontsize=14)\n",
    "\n",
    "plt.show()"
   ]
  },
  {
   "cell_type": "markdown",
   "metadata": {},
   "source": [
    "**На графике видно, что поведение Alice зависит от года и на некоторых временных интервалах сильно отличается от остальных пользователей**\n",
    "\n",
    "Попробуем построить и исследовать признак, который будет учитывать как месяц, так и год. Например **yyyymm = year*100+month**"
   ]
  },
  {
   "cell_type": "code",
   "execution_count": 161,
   "metadata": {},
   "outputs": [],
   "source": [
    "data['yyyymm'] = train_test_df['time1'].apply(pd.to_datetime).apply(lambda x: x.year*100+x.month).astype('int')"
   ]
  },
  {
   "cell_type": "code",
   "execution_count": 162,
   "metadata": {},
   "outputs": [
    {
     "data": {
      "image/png": "[encoded data removed]",
      "text/plain": [
       "<Figure size 1800x1152 with 3 Axes>"
      ]
     },
     "metadata": {},
     "output_type": "display_data"
    }
   ],
   "source": [
    "yyyymm = [int(\"{}{}\".format(year, month)) for year in ['2013', '2014'] \\\n",
    "          for month in ['01','02','03','04','05','06','07','08','09','10','11','12']]\n",
    "#print (yyyymm)\n",
    "# YYYYMM feature\n",
    "fig, axes = plt.subplots(nrows=3, ncols=1, figsize=(25,16))\n",
    "fig.suptitle(\"YYYYMM distribution\", fontsize=16)\n",
    "sns.countplot(x=\"yyyymm\", data=data[data.target==1][:idx], order=yyyymm, ax=axes[0])\n",
    "axes[0].set_title(\"Alice\", fontsize=14)\n",
    "sns.countplot(x=\"yyyymm\", data=data[data.target==0][:idx], order=yyyymm, ax=axes[1])\n",
    "axes[1].set_title(\"Not Alice\", fontsize=14)\n",
    "sns.countplot(x=\"yyyymm\", data=data[idx:], order=yyyymm, ax=axes[2]); \n",
    "axes[2].set_title(\"Test sample\", fontsize=14)\n",
    "plt.show()"
   ]
  },
  {
   "cell_type": "markdown",
   "metadata": {},
   "source": [
    "**Из графика можно выделить три характерных интервала:**\n",
    "\n",
    " - до сентября 2013 поведение Alice практически не отличается от других\n",
    " - с сентября 2013 до января 2014 заметна разница\n",
    " - с февраля 2014 поведение Alice снова похоже на остальных пользователей\n",
    " \n",
    " \n",
    "Можно было попробовать создать категориальный признак на основе временных интревалов, но мы попробуем оставить все как есть. Только произведем нормировку StandartScaler."
   ]
  },
  {
   "cell_type": "code",
   "execution_count": 167,
   "metadata": {},
   "outputs": [
    {
     "data": {
      "text/html": [
       "<div>\n",
       "<style scoped>\n",
       "    .dataframe tbody tr th:only-of-type {\n",
       "        vertical-align: middle;\n",
       "    }\n",
       "\n",
       "    .dataframe tbody tr th {\n",
       "        vertical-align: top;\n",
       "    }\n",
       "\n",
       "    .dataframe thead th {\n",
       "        text-align: right;\n",
       "    }\n",
       "</style>\n",
       "<table border=\"1\" class=\"dataframe\">\n",
       "  <thead>\n",
       "    <tr style=\"text-align: right;\">\n",
       "      <th></th>\n",
       "      <th>start day</th>\n",
       "      <th>start hour</th>\n",
       "      <th>start month</th>\n",
       "      <th>unique sites</th>\n",
       "      <th>seconds</th>\n",
       "      <th>minutes</th>\n",
       "      <th>favorite days</th>\n",
       "      <th>wednesday</th>\n",
       "      <th>weekend</th>\n",
       "      <th>morning</th>\n",
       "      <th>day</th>\n",
       "      <th>evening</th>\n",
       "      <th>night</th>\n",
       "      <th>short session</th>\n",
       "      <th>long session</th>\n",
       "      <th>start year</th>\n",
       "      <th>yyyymm</th>\n",
       "    </tr>\n",
       "    <tr>\n",
       "      <th>session_id</th>\n",
       "      <th></th>\n",
       "      <th></th>\n",
       "      <th></th>\n",
       "      <th></th>\n",
       "      <th></th>\n",
       "      <th></th>\n",
       "      <th></th>\n",
       "      <th></th>\n",
       "      <th></th>\n",
       "      <th></th>\n",
       "      <th></th>\n",
       "      <th></th>\n",
       "      <th></th>\n",
       "      <th></th>\n",
       "      <th></th>\n",
       "      <th></th>\n",
       "      <th></th>\n",
       "    </tr>\n",
       "  </thead>\n",
       "  <tbody>\n",
       "    <tr>\n",
       "      <th>21669</th>\n",
       "      <td>5</td>\n",
       "      <td>8</td>\n",
       "      <td>1</td>\n",
       "      <td>2</td>\n",
       "      <td>0.0</td>\n",
       "      <td>0.00</td>\n",
       "      <td>0</td>\n",
       "      <td>0</td>\n",
       "      <td>1</td>\n",
       "      <td>1</td>\n",
       "      <td>0</td>\n",
       "      <td>0</td>\n",
       "      <td>0</td>\n",
       "      <td>1</td>\n",
       "      <td>0</td>\n",
       "      <td>2013</td>\n",
       "      <td>201301</td>\n",
       "    </tr>\n",
       "    <tr>\n",
       "      <th>54843</th>\n",
       "      <td>5</td>\n",
       "      <td>8</td>\n",
       "      <td>1</td>\n",
       "      <td>2</td>\n",
       "      <td>1786.0</td>\n",
       "      <td>29.77</td>\n",
       "      <td>0</td>\n",
       "      <td>0</td>\n",
       "      <td>1</td>\n",
       "      <td>1</td>\n",
       "      <td>0</td>\n",
       "      <td>0</td>\n",
       "      <td>0</td>\n",
       "      <td>0</td>\n",
       "      <td>1</td>\n",
       "      <td>2013</td>\n",
       "      <td>201301</td>\n",
       "    </tr>\n",
       "    <tr>\n",
       "      <th>77292</th>\n",
       "      <td>5</td>\n",
       "      <td>8</td>\n",
       "      <td>1</td>\n",
       "      <td>6</td>\n",
       "      <td>4.0</td>\n",
       "      <td>0.07</td>\n",
       "      <td>0</td>\n",
       "      <td>0</td>\n",
       "      <td>1</td>\n",
       "      <td>1</td>\n",
       "      <td>0</td>\n",
       "      <td>0</td>\n",
       "      <td>0</td>\n",
       "      <td>1</td>\n",
       "      <td>0</td>\n",
       "      <td>2013</td>\n",
       "      <td>201301</td>\n",
       "    </tr>\n",
       "    <tr>\n",
       "      <th>114021</th>\n",
       "      <td>5</td>\n",
       "      <td>8</td>\n",
       "      <td>1</td>\n",
       "      <td>5</td>\n",
       "      <td>3.0</td>\n",
       "      <td>0.05</td>\n",
       "      <td>0</td>\n",
       "      <td>0</td>\n",
       "      <td>1</td>\n",
       "      <td>1</td>\n",
       "      <td>0</td>\n",
       "      <td>0</td>\n",
       "      <td>0</td>\n",
       "      <td>1</td>\n",
       "      <td>0</td>\n",
       "      <td>2013</td>\n",
       "      <td>201301</td>\n",
       "    </tr>\n",
       "    <tr>\n",
       "      <th>146670</th>\n",
       "      <td>5</td>\n",
       "      <td>8</td>\n",
       "      <td>1</td>\n",
       "      <td>6</td>\n",
       "      <td>2.0</td>\n",
       "      <td>0.03</td>\n",
       "      <td>0</td>\n",
       "      <td>0</td>\n",
       "      <td>1</td>\n",
       "      <td>1</td>\n",
       "      <td>0</td>\n",
       "      <td>0</td>\n",
       "      <td>0</td>\n",
       "      <td>1</td>\n",
       "      <td>0</td>\n",
       "      <td>2013</td>\n",
       "      <td>201301</td>\n",
       "    </tr>\n",
       "  </tbody>\n",
       "</table>\n",
       "</div>"
      ],
      "text/plain": [
       "            start day  start hour  start month  unique sites  seconds  \\\n",
       "session_id                                                              \n",
       "21669               5           8            1             2      0.0   \n",
       "54843               5           8            1             2   1786.0   \n",
       "77292               5           8            1             6      4.0   \n",
       "114021              5           8            1             5      3.0   \n",
       "146670              5           8            1             6      2.0   \n",
       "\n",
       "            minutes  favorite days  wednesday  weekend  morning  day  evening  \\\n",
       "session_id                                                                      \n",
       "21669          0.00              0          0        1        1    0        0   \n",
       "54843         29.77              0          0        1        1    0        0   \n",
       "77292          0.07              0          0        1        1    0        0   \n",
       "114021         0.05              0          0        1        1    0        0   \n",
       "146670         0.03              0          0        1        1    0        0   \n",
       "\n",
       "            night  short session  long session  start year  yyyymm  \n",
       "session_id                                                          \n",
       "21669           0              1             0        2013  201301  \n",
       "54843           0              0             1        2013  201301  \n",
       "77292           0              1             0        2013  201301  \n",
       "114021          0              1             0        2013  201301  \n",
       "146670          0              1             0        2013  201301  "
      ]
     },
     "execution_count": 167,
     "metadata": {},
     "output_type": "execute_result"
    }
   ],
   "source": [
    "data.drop(['target'], inplace=True, axis=1)\n",
    "data.head()"
   ]
  },
  {
   "cell_type": "code",
   "execution_count": 168,
   "metadata": {},
   "outputs": [],
   "source": [
    "features_cat = ['start day', 'start hour', 'start month', 'start year']\n",
    "features_scale = ['unique sites', 'seconds', 'minutes']"
   ]
  },
  {
   "cell_type": "code",
   "execution_count": 169,
   "metadata": {},
   "outputs": [],
   "source": [
    "# Произведем преобразование категориальных признаков \n",
    "data = pd.get_dummies(data, columns=features_cat)\n",
    "# Произведем нормирование числовых признаков\n",
    "data[features_scale] = StandardScaler().fit_transform(data[features_scale])"
   ]
  },
  {
   "cell_type": "code",
   "execution_count": 171,
   "metadata": {},
   "outputs": [
    {
     "data": {
      "text/html": [
       "<div>\n",
       "<style scoped>\n",
       "    .dataframe tbody tr th:only-of-type {\n",
       "        vertical-align: middle;\n",
       "    }\n",
       "\n",
       "    .dataframe tbody tr th {\n",
       "        vertical-align: top;\n",
       "    }\n",
       "\n",
       "    .dataframe thead th {\n",
       "        text-align: right;\n",
       "    }\n",
       "</style>\n",
       "<table border=\"1\" class=\"dataframe\">\n",
       "  <thead>\n",
       "    <tr style=\"text-align: right;\">\n",
       "      <th></th>\n",
       "      <th>unique sites</th>\n",
       "      <th>seconds</th>\n",
       "      <th>minutes</th>\n",
       "      <th>favorite days</th>\n",
       "      <th>wednesday</th>\n",
       "      <th>weekend</th>\n",
       "      <th>morning</th>\n",
       "      <th>day</th>\n",
       "      <th>evening</th>\n",
       "      <th>night</th>\n",
       "      <th>...</th>\n",
       "      <th>start month_5</th>\n",
       "      <th>start month_6</th>\n",
       "      <th>start month_7</th>\n",
       "      <th>start month_8</th>\n",
       "      <th>start month_9</th>\n",
       "      <th>start month_10</th>\n",
       "      <th>start month_11</th>\n",
       "      <th>start month_12</th>\n",
       "      <th>start year_2013</th>\n",
       "      <th>start year_2014</th>\n",
       "    </tr>\n",
       "    <tr>\n",
       "      <th>session_id</th>\n",
       "      <th></th>\n",
       "      <th></th>\n",
       "      <th></th>\n",
       "      <th></th>\n",
       "      <th></th>\n",
       "      <th></th>\n",
       "      <th></th>\n",
       "      <th></th>\n",
       "      <th></th>\n",
       "      <th></th>\n",
       "      <th></th>\n",
       "      <th></th>\n",
       "      <th></th>\n",
       "      <th></th>\n",
       "      <th></th>\n",
       "      <th></th>\n",
       "      <th></th>\n",
       "      <th></th>\n",
       "      <th></th>\n",
       "      <th></th>\n",
       "      <th></th>\n",
       "    </tr>\n",
       "  </thead>\n",
       "  <tbody>\n",
       "    <tr>\n",
       "      <th>21669</th>\n",
       "      <td>-1.401301</td>\n",
       "      <td>-0.468611</td>\n",
       "      <td>-0.468613</td>\n",
       "      <td>0</td>\n",
       "      <td>0</td>\n",
       "      <td>1</td>\n",
       "      <td>1</td>\n",
       "      <td>0</td>\n",
       "      <td>0</td>\n",
       "      <td>0</td>\n",
       "      <td>...</td>\n",
       "      <td>0</td>\n",
       "      <td>0</td>\n",
       "      <td>0</td>\n",
       "      <td>0</td>\n",
       "      <td>0</td>\n",
       "      <td>0</td>\n",
       "      <td>0</td>\n",
       "      <td>0</td>\n",
       "      <td>1</td>\n",
       "      <td>0</td>\n",
       "    </tr>\n",
       "    <tr>\n",
       "      <th>54843</th>\n",
       "      <td>-1.401301</td>\n",
       "      <td>5.622634</td>\n",
       "      <td>5.623311</td>\n",
       "      <td>0</td>\n",
       "      <td>0</td>\n",
       "      <td>1</td>\n",
       "      <td>1</td>\n",
       "      <td>0</td>\n",
       "      <td>0</td>\n",
       "      <td>0</td>\n",
       "      <td>...</td>\n",
       "      <td>0</td>\n",
       "      <td>0</td>\n",
       "      <td>0</td>\n",
       "      <td>0</td>\n",
       "      <td>0</td>\n",
       "      <td>0</td>\n",
       "      <td>0</td>\n",
       "      <td>0</td>\n",
       "      <td>1</td>\n",
       "      <td>0</td>\n",
       "    </tr>\n",
       "    <tr>\n",
       "      <th>77292</th>\n",
       "      <td>0.177483</td>\n",
       "      <td>-0.454969</td>\n",
       "      <td>-0.454288</td>\n",
       "      <td>0</td>\n",
       "      <td>0</td>\n",
       "      <td>1</td>\n",
       "      <td>1</td>\n",
       "      <td>0</td>\n",
       "      <td>0</td>\n",
       "      <td>0</td>\n",
       "      <td>...</td>\n",
       "      <td>0</td>\n",
       "      <td>0</td>\n",
       "      <td>0</td>\n",
       "      <td>0</td>\n",
       "      <td>0</td>\n",
       "      <td>0</td>\n",
       "      <td>0</td>\n",
       "      <td>0</td>\n",
       "      <td>1</td>\n",
       "      <td>0</td>\n",
       "    </tr>\n",
       "    <tr>\n",
       "      <th>114021</th>\n",
       "      <td>-0.217213</td>\n",
       "      <td>-0.458380</td>\n",
       "      <td>-0.458381</td>\n",
       "      <td>0</td>\n",
       "      <td>0</td>\n",
       "      <td>1</td>\n",
       "      <td>1</td>\n",
       "      <td>0</td>\n",
       "      <td>0</td>\n",
       "      <td>0</td>\n",
       "      <td>...</td>\n",
       "      <td>0</td>\n",
       "      <td>0</td>\n",
       "      <td>0</td>\n",
       "      <td>0</td>\n",
       "      <td>0</td>\n",
       "      <td>0</td>\n",
       "      <td>0</td>\n",
       "      <td>0</td>\n",
       "      <td>1</td>\n",
       "      <td>0</td>\n",
       "    </tr>\n",
       "    <tr>\n",
       "      <th>146670</th>\n",
       "      <td>0.177483</td>\n",
       "      <td>-0.461790</td>\n",
       "      <td>-0.462474</td>\n",
       "      <td>0</td>\n",
       "      <td>0</td>\n",
       "      <td>1</td>\n",
       "      <td>1</td>\n",
       "      <td>0</td>\n",
       "      <td>0</td>\n",
       "      <td>0</td>\n",
       "      <td>...</td>\n",
       "      <td>0</td>\n",
       "      <td>0</td>\n",
       "      <td>0</td>\n",
       "      <td>0</td>\n",
       "      <td>0</td>\n",
       "      <td>0</td>\n",
       "      <td>0</td>\n",
       "      <td>0</td>\n",
       "      <td>1</td>\n",
       "      <td>0</td>\n",
       "    </tr>\n",
       "  </tbody>\n",
       "</table>\n",
       "<p>5 rows × 51 columns</p>\n",
       "</div>"
      ],
      "text/plain": [
       "            unique sites   seconds   minutes  favorite days  wednesday  \\\n",
       "session_id                                                               \n",
       "21669          -1.401301 -0.468611 -0.468613              0          0   \n",
       "54843          -1.401301  5.622634  5.623311              0          0   \n",
       "77292           0.177483 -0.454969 -0.454288              0          0   \n",
       "114021         -0.217213 -0.458380 -0.458381              0          0   \n",
       "146670          0.177483 -0.461790 -0.462474              0          0   \n",
       "\n",
       "            weekend  morning  day  evening  night       ...         \\\n",
       "session_id                                              ...          \n",
       "21669             1        1    0        0      0       ...          \n",
       "54843             1        1    0        0      0       ...          \n",
       "77292             1        1    0        0      0       ...          \n",
       "114021            1        1    0        0      0       ...          \n",
       "146670            1        1    0        0      0       ...          \n",
       "\n",
       "            start month_5  start month_6  start month_7  start month_8  \\\n",
       "session_id                                                               \n",
       "21669                   0              0              0              0   \n",
       "54843                   0              0              0              0   \n",
       "77292                   0              0              0              0   \n",
       "114021                  0              0              0              0   \n",
       "146670                  0              0              0              0   \n",
       "\n",
       "            start month_9  start month_10  start month_11  start month_12  \\\n",
       "session_id                                                                  \n",
       "21669                   0               0               0               0   \n",
       "54843                   0               0               0               0   \n",
       "77292                   0               0               0               0   \n",
       "114021                  0               0               0               0   \n",
       "146670                  0               0               0               0   \n",
       "\n",
       "            start year_2013  start year_2014  \n",
       "session_id                                    \n",
       "21669                     1                0  \n",
       "54843                     1                0  \n",
       "77292                     1                0  \n",
       "114021                    1                0  \n",
       "146670                    1                0  \n",
       "\n",
       "[5 rows x 51 columns]"
      ]
     },
     "execution_count": 171,
     "metadata": {},
     "output_type": "execute_result"
    }
   ],
   "source": [
    "data.head()"
   ]
  },
  {
   "cell_type": "code",
   "execution_count": 172,
   "metadata": {},
   "outputs": [],
   "source": [
    "# Сохраним получившиеся признаки\n",
    "with open(os.path.join(PATH_TO_DATA, \n",
    "                       'Alice_new_features_2.pkl'), 'wb') as new_features_2_pkl:\n",
    "    pickle.dump(data, new_features_2_pkl, \n",
    "                protocol=2)"
   ]
  },
  {
   "cell_type": "code",
   "execution_count": 179,
   "metadata": {},
   "outputs": [],
   "source": [
    "# Добавляем новые признаки в выборки\n",
    "X_tf_idf_train = hstack((X_tf_idf_train_sparse, data.values[:train_df.shape[0]]))\n",
    "X_tf_idf_test = hstack((X_tf_idf_test_sparse, data.values[train_df.shape[0]:]))"
   ]
  },
  {
   "cell_type": "code",
   "execution_count": 187,
   "metadata": {},
   "outputs": [
    {
     "name": "stdout",
     "output_type": "stream",
     "text": [
      "0.9088118509433656 {'penalty': 'l1', 'C': 1.6681005372000592}\n",
      "CPU times: user 7min 45s, sys: 3.91 s, total: 7min 49s\n",
      "Wall time: 1h 56min 44s\n"
     ]
    }
   ],
   "source": [
    "# Подбор параметров модели\n",
    "%%time\n",
    "logit_grid_searcher_final = GridSearchCV(estimator=logit, param_grid=params, scoring='roc_auc', n_jobs=-1, cv=time_split)\n",
    "logit_grid_searcher_final.fit(X_tf_idf_train, y)\n",
    "print(logit_grid_searcher_final.best_score_, logit_grid_searcher_final.best_params_)"
   ]
  },
  {
   "cell_type": "code",
   "execution_count": 188,
   "metadata": {},
   "outputs": [],
   "source": [
    "# Делаем предсказание и submission\n",
    "logit_final_pred = logit_grid_searcher_final.predict_proba(X_tf_idf_test)[:, 1]\n",
    "write_to_submission_file(logit_final_pred, 'submission_logit_final.csv')\n"
   ]
  },
  {
   "cell_type": "markdown",
   "metadata": {},
   "source": [
    "**LB=0.95136** - максимальный результат!\n",
    "[Скриншот результата](https://yadi.sk/i/WVZ0SM5u7j03IQ)"
   ]
  },
  {
   "cell_type": "markdown",
   "metadata": {},
   "source": [
    "**Выводы:**\n",
    "\n",
    "**Мы получили довольно неплохой результат на leaderboard соревнования. Что еще можно было сделать?**\n",
    "\n",
    " - попробовать применить SGDClassifier для увеличения быстродействия\n",
    " - попробовать перебором подобрать важные признаки, используя SGDClassifier\n",
    " - попробовать применить blending разных алгоритмов\n",
    " - попробовать обучить модель только на данных 2014 года, так как тестовая выборка содержит только 2014 год, а поведение Alice год от года отличается\n",
    " \n",
    "**Построеные в данном соревновании модели могут применяться не только в детектировании незаконного проникновения в сетевые ресурсы, но и во многих других сферах связанных с взаимодействием интернет-ресурсов и людей. Рекомендации в интернет-магазинах, показ рекламы, подразумевают под собой как можно более точное определение целевой аудитории, и в этом нам могут помочь модели классификации, рассмотренные в данном проекте.**"
   ]
  },
  {
   "cell_type": "markdown",
   "metadata": {},
   "source": []
  },
  {
   "cell_type": "code",
   "execution_count": null,
   "metadata": {},
   "outputs": [],
   "source": []
  }
 ],
 "metadata": {
  "kernelspec": {
   "display_name": "Python 2",
   "language": "python",
   "name": "python2"
  },
  "language_info": {
   "codemirror_mode": {
    "name": "ipython",
    "version": 2
   },
   "file_extension": ".py",
   "mimetype": "text/x-python",
   "name": "python",
   "nbconvert_exporter": "python",
   "pygments_lexer": "ipython2",
   "version": "2.7.15"
  }
 },
 "nbformat": 4,
 "nbformat_minor": 2
}
